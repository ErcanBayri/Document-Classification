{
 "cells": [
  {
   "cell_type": "code",
   "execution_count": 1,
   "metadata": {
    "ExecuteTime": {
     "end_time": "2018-11-27T18:18:39.917009Z",
     "start_time": "2018-11-27T18:18:36.857594Z"
    }
   },
   "outputs": [],
   "source": [
    "import pandas as pd\n",
    "import numpy as np\n",
    "import scipy.stats as scs\n",
    "import statsmodels.api as sm\n",
    "import matplotlib.pyplot as plt\n",
    "\n",
    "%matplotlib inline\n",
    "%config InlineBackend.figure_format='retina'"
   ]
  },
  {
   "cell_type": "code",
   "execution_count": 2,
   "metadata": {
    "ExecuteTime": {
     "end_time": "2018-11-27T18:20:47.884657Z",
     "start_time": "2018-11-27T18:20:37.858228Z"
    }
   },
   "outputs": [
    {
     "data": {
      "text/html": [
       "<div>\n",
       "<style scoped>\n",
       "    .dataframe tbody tr th:only-of-type {\n",
       "        vertical-align: middle;\n",
       "    }\n",
       "\n",
       "    .dataframe tbody tr th {\n",
       "        vertical-align: top;\n",
       "    }\n",
       "\n",
       "    .dataframe thead th {\n",
       "        text-align: right;\n",
       "    }\n",
       "</style>\n",
       "<table border=\"1\" class=\"dataframe\">\n",
       "  <thead>\n",
       "    <tr style=\"text-align: right;\">\n",
       "      <th></th>\n",
       "      <th>descr</th>\n",
       "      <th>clm</th>\n",
       "      <th>code</th>\n",
       "    </tr>\n",
       "  </thead>\n",
       "  <tbody>\n",
       "    <tr>\n",
       "      <th>0</th>\n",
       "      <td>CROSS-REFERENCE TO RELATED APPLICATIONS \\n    ...</td>\n",
       "      <td>1. A computer-implemented method of designing ...</td>\n",
       "      <td>706</td>\n",
       "    </tr>\n",
       "    <tr>\n",
       "      <th>1</th>\n",
       "      <td>RELATED APPLICATIONS \\n     This application i...</td>\n",
       "      <td>What is claimed is: \\n     \\n         1 . A sy...</td>\n",
       "      <td>705</td>\n",
       "    </tr>\n",
       "    <tr>\n",
       "      <th>2</th>\n",
       "      <td>CROSS REFERENCE TO RELATED APPLICATION \\n     ...</td>\n",
       "      <td>1. A weather information display device compri...</td>\n",
       "      <td>706</td>\n",
       "    </tr>\n",
       "    <tr>\n",
       "      <th>3</th>\n",
       "      <td>TECHNICAL FIELD \\n     The present disclosure ...</td>\n",
       "      <td>1 . A method of obtaining a user&amp;#39;s measure...</td>\n",
       "      <td>705</td>\n",
       "    </tr>\n",
       "    <tr>\n",
       "      <th>4</th>\n",
       "      <td>CROSS-REFERENCE TO RELATED APPLICATIONS \\n    ...</td>\n",
       "      <td>1 . A method for providing borrower foreclosur...</td>\n",
       "      <td>705</td>\n",
       "    </tr>\n",
       "  </tbody>\n",
       "</table>\n",
       "</div>"
      ],
      "text/plain": [
       "                                               descr  \\\n",
       "0  CROSS-REFERENCE TO RELATED APPLICATIONS \\n    ...   \n",
       "1  RELATED APPLICATIONS \\n     This application i...   \n",
       "2  CROSS REFERENCE TO RELATED APPLICATION \\n     ...   \n",
       "3  TECHNICAL FIELD \\n     The present disclosure ...   \n",
       "4  CROSS-REFERENCE TO RELATED APPLICATIONS \\n    ...   \n",
       "\n",
       "                                                 clm  code  \n",
       "0  1. A computer-implemented method of designing ...   706  \n",
       "1  What is claimed is: \\n     \\n         1 . A sy...   705  \n",
       "2  1. A weather information display device compri...   706  \n",
       "3  1 . A method of obtaining a user&#39;s measure...   705  \n",
       "4  1 . A method for providing borrower foreclosur...   705  "
      ]
     },
     "execution_count": 2,
     "metadata": {},
     "output_type": "execute_result"
    }
   ],
   "source": [
    "df=pd.read_csv('/Users/rcm/Google Drive/Galvanize Data Science Immersive/Capstone/data/classification/small_descr_clm_code.csv', index_col=None,)\n",
    "df.drop('Unnamed: 0',axis=1, inplace=True)\n",
    "df.head()"
   ]
  },
  {
   "cell_type": "code",
   "execution_count": 3,
   "metadata": {
    "ExecuteTime": {
     "end_time": "2018-11-27T18:21:58.025480Z",
     "start_time": "2018-11-27T18:21:46.183502Z"
    }
   },
   "outputs": [],
   "source": [
    "def remove_string(dataframe,column_list,string_in_quotes):\n",
    "    '''\n",
    "    Input:\n",
    "            dataframe: name of pandas dataframe\n",
    "            column_list: list of column name strings (ex. ['col_1','col_2'])\n",
    "            string_in_quotes: string to remove in quotes (ex. ',')\n",
    "    \n",
    "    Output:\n",
    "            none\n",
    "            modifies pandas dataframe to remove string.\n",
    "                \n",
    "    Example:\n",
    "            remove_string(df, ['col_1','col_2'], ',')\n",
    "    \n",
    "    Warning:\n",
    "            If memory issues occur, limit to one column at a time.\n",
    "        \n",
    "    '''\n",
    "    for i in column_list:\n",
    "        dataframe[i] = dataframe[i].str.replace(string_in_quotes,\"\").astype(str)\n",
    "\n",
    "# [ ] clean and automate this\n",
    "remove_string(df, ['descr'],',')\n",
    "remove_string(df, ['clm'],',')\n",
    "remove_string(df, ['descr'],'\\n')\n",
    "remove_string(df, ['clm'],'\\n')\n"
   ]
  },
  {
   "cell_type": "code",
   "execution_count": 4,
   "metadata": {
    "ExecuteTime": {
     "end_time": "2018-11-27T18:22:05.400224Z",
     "start_time": "2018-11-27T18:22:05.365521Z"
    }
   },
   "outputs": [
    {
     "name": "stdout",
     "output_type": "stream",
     "text": [
      "<class 'pandas.core.frame.DataFrame'>\n",
      "RangeIndex: 5836 entries, 0 to 5835\n",
      "Data columns (total 3 columns):\n",
      "descr    5836 non-null object\n",
      "clm      5836 non-null object\n",
      "code     5836 non-null category\n",
      "dtypes: category(1), object(2)\n",
      "memory usage: 97.1+ KB\n",
      "<class 'pandas.core.frame.DataFrame'>\n",
      "RangeIndex: 5836 entries, 0 to 5835\n",
      "Data columns (total 3 columns):\n",
      "descr    5836 non-null object\n",
      "clm      5836 non-null object\n",
      "code     5836 non-null category\n",
      "dtypes: category(1), object(2)\n",
      "memory usage: 879.4 MB\n"
     ]
    }
   ],
   "source": [
    "# change label column to category to optimize data\n",
    "df['code'] = df['code'].astype('category')\n",
    "df.info() #show regular info\n",
    "df.info(memory_usage='deep') #show scary info"
   ]
  },
  {
   "cell_type": "code",
   "execution_count": null,
   "metadata": {},
   "outputs": [],
   "source": [
    "# Vectorized implementation of Haversine applied on NumPy arrays\n",
    "\n",
    "df['descr'] = haversine(40.671, -73.985, df['latitude'].values, df['longitude'].values)\n"
   ]
  }
 ],
 "metadata": {
  "kernelspec": {
   "display_name": "Python 3",
   "language": "python",
   "name": "python3"
  },
  "language_info": {
   "codemirror_mode": {
    "name": "ipython",
    "version": 3
   },
   "file_extension": ".py",
   "mimetype": "text/x-python",
   "name": "python",
   "nbconvert_exporter": "python",
   "pygments_lexer": "ipython3",
   "version": "3.6.5"
  },
  "toc": {
   "base_numbering": 1,
   "nav_menu": {},
   "number_sections": true,
   "sideBar": true,
   "skip_h1_title": false,
   "title_cell": "Table of Contents",
   "title_sidebar": "Contents",
   "toc_cell": false,
   "toc_position": {},
   "toc_section_display": true,
   "toc_window_display": false
  },
  "varInspector": {
   "cols": {
    "lenName": 16,
    "lenType": 16,
    "lenVar": "60"
   },
   "kernels_config": {
    "python": {
     "delete_cmd_postfix": "",
     "delete_cmd_prefix": "del ",
     "library": "var_list.py",
     "varRefreshCmd": "print(var_dic_list())"
    },
    "r": {
     "delete_cmd_postfix": ") ",
     "delete_cmd_prefix": "rm(",
     "library": "var_list.r",
     "varRefreshCmd": "cat(var_dic_list()) "
    }
   },
   "types_to_exclude": [
    "module",
    "function",
    "builtin_function_or_method",
    "instance",
    "_Feature"
   ],
   "window_display": false
  }
 },
 "nbformat": 4,
 "nbformat_minor": 2
}
