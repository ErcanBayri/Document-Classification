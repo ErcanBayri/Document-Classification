{
 "cells": [
  {
   "cell_type": "code",
   "execution_count": 1,
   "metadata": {
    "ExecuteTime": {
     "end_time": "2018-11-28T05:54:06.282472Z",
     "start_time": "2018-11-28T05:54:04.004223Z"
    }
   },
   "outputs": [],
   "source": [
    "import pandas as pd\n",
    "import numpy as np\n",
    "import scipy.stats as scs\n",
    "import statsmodels.api as sm\n",
    "import matplotlib.pyplot as plt\n",
    "import re\n",
    "\n",
    "%matplotlib inline\n",
    "%config InlineBackend.figure_format='retina'"
   ]
  },
  {
   "cell_type": "code",
   "execution_count": 2,
   "metadata": {
    "ExecuteTime": {
     "end_time": "2018-11-28T05:54:14.171921Z",
     "start_time": "2018-11-28T05:54:06.435108Z"
    }
   },
   "outputs": [
    {
     "data": {
      "text/html": [
       "<div>\n",
       "<style scoped>\n",
       "    .dataframe tbody tr th:only-of-type {\n",
       "        vertical-align: middle;\n",
       "    }\n",
       "\n",
       "    .dataframe tbody tr th {\n",
       "        vertical-align: top;\n",
       "    }\n",
       "\n",
       "    .dataframe thead th {\n",
       "        text-align: right;\n",
       "    }\n",
       "</style>\n",
       "<table border=\"1\" class=\"dataframe\">\n",
       "  <thead>\n",
       "    <tr style=\"text-align: right;\">\n",
       "      <th></th>\n",
       "      <th>clm</th>\n",
       "      <th>code</th>\n",
       "    </tr>\n",
       "  </thead>\n",
       "  <tbody>\n",
       "    <tr>\n",
       "      <th>0</th>\n",
       "      <td>1. A computer-implemented method of designing ...</td>\n",
       "      <td>706</td>\n",
       "    </tr>\n",
       "    <tr>\n",
       "      <th>1</th>\n",
       "      <td>What is claimed is: \\n     \\n         1 . A sy...</td>\n",
       "      <td>705</td>\n",
       "    </tr>\n",
       "    <tr>\n",
       "      <th>2</th>\n",
       "      <td>1. A weather information display device compri...</td>\n",
       "      <td>706</td>\n",
       "    </tr>\n",
       "    <tr>\n",
       "      <th>3</th>\n",
       "      <td>1 . A method of obtaining a user&amp;#39;s measure...</td>\n",
       "      <td>705</td>\n",
       "    </tr>\n",
       "    <tr>\n",
       "      <th>4</th>\n",
       "      <td>1 . A method for providing borrower foreclosur...</td>\n",
       "      <td>705</td>\n",
       "    </tr>\n",
       "  </tbody>\n",
       "</table>\n",
       "</div>"
      ],
      "text/plain": [
       "                                                 clm  code\n",
       "0  1. A computer-implemented method of designing ...   706\n",
       "1  What is claimed is: \\n     \\n         1 . A sy...   705\n",
       "2  1. A weather information display device compri...   706\n",
       "3  1 . A method of obtaining a user&#39;s measure...   705\n",
       "4  1 . A method for providing borrower foreclosur...   705"
      ]
     },
     "execution_count": 2,
     "metadata": {},
     "output_type": "execute_result"
    }
   ],
   "source": [
    "df = pd.read_csv('/Users/rcm/Google Drive/Galvanize Data Science Immersive/Capstone/data/classification/small_descr_clm_code.csv', index_col=None,)\n",
    "df.drop(['Unnamed: 0','descr'],axis=1, inplace=True)\n",
    "df.head()"
   ]
  },
  {
   "cell_type": "code",
   "execution_count": 3,
   "metadata": {
    "ExecuteTime": {
     "end_time": "2018-11-28T05:54:14.646099Z",
     "start_time": "2018-11-28T05:54:14.637897Z"
    }
   },
   "outputs": [],
   "source": [
    "def remove_string(dataframe,column_list,string_in_quotes):\n",
    "    '''\n",
    "    Input:\n",
    "            dataframe: name of pandas dataframe\n",
    "            column_list: list of column name strings (ex. ['col_1','col_2'])\n",
    "            string_in_quotes: string to remove in quotes (ex. ',')\n",
    "    \n",
    "    Output:\n",
    "            none\n",
    "            modifies pandas dataframe to remove string.\n",
    "                \n",
    "    Example:\n",
    "            remove_string(df, ['col_1','col_2'], ',')\n",
    "    \n",
    "    Warning:\n",
    "            If memory issues occur, limit to one column at a time.\n",
    "        \n",
    "    '''\n",
    "    for i in column_list:\n",
    "        dataframe[i] = dataframe[i].str.replace(string_in_quotes,\"\").astype(str)"
   ]
  },
  {
   "cell_type": "code",
   "execution_count": 4,
   "metadata": {
    "ExecuteTime": {
     "end_time": "2018-11-28T05:54:15.195516Z",
     "start_time": "2018-11-28T05:54:15.031741Z"
    }
   },
   "outputs": [],
   "source": [
    "remove_string(df, ['clm'],'\\n')"
   ]
  },
  {
   "cell_type": "code",
   "execution_count": 5,
   "metadata": {
    "ExecuteTime": {
     "end_time": "2018-11-28T05:54:15.675056Z",
     "start_time": "2018-11-28T05:54:15.600927Z"
    }
   },
   "outputs": [],
   "source": [
    "remove_string(df,['clm'],'What is claimed is: ')"
   ]
  },
  {
   "cell_type": "code",
   "execution_count": 6,
   "metadata": {
    "ExecuteTime": {
     "end_time": "2018-11-28T05:54:16.083582Z",
     "start_time": "2018-11-28T05:54:16.070744Z"
    }
   },
   "outputs": [
    {
     "data": {
      "text/html": [
       "<div>\n",
       "<style scoped>\n",
       "    .dataframe tbody tr th:only-of-type {\n",
       "        vertical-align: middle;\n",
       "    }\n",
       "\n",
       "    .dataframe tbody tr th {\n",
       "        vertical-align: top;\n",
       "    }\n",
       "\n",
       "    .dataframe thead th {\n",
       "        text-align: right;\n",
       "    }\n",
       "</style>\n",
       "<table border=\"1\" class=\"dataframe\">\n",
       "  <thead>\n",
       "    <tr style=\"text-align: right;\">\n",
       "      <th></th>\n",
       "      <th>clm</th>\n",
       "      <th>code</th>\n",
       "    </tr>\n",
       "  </thead>\n",
       "  <tbody>\n",
       "    <tr>\n",
       "      <th>0</th>\n",
       "      <td>1. A computer-implemented method of designing ...</td>\n",
       "      <td>706</td>\n",
       "    </tr>\n",
       "    <tr>\n",
       "      <th>1</th>\n",
       "      <td>1 . A system including: a comput...</td>\n",
       "      <td>705</td>\n",
       "    </tr>\n",
       "    <tr>\n",
       "      <th>2</th>\n",
       "      <td>1. A weather information display device compri...</td>\n",
       "      <td>706</td>\n",
       "    </tr>\n",
       "    <tr>\n",
       "      <th>3</th>\n",
       "      <td>1 . A method of obtaining a user&amp;#39;s measure...</td>\n",
       "      <td>705</td>\n",
       "    </tr>\n",
       "    <tr>\n",
       "      <th>4</th>\n",
       "      <td>1 . A method for providing borrower foreclosur...</td>\n",
       "      <td>705</td>\n",
       "    </tr>\n",
       "  </tbody>\n",
       "</table>\n",
       "</div>"
      ],
      "text/plain": [
       "                                                 clm  code\n",
       "0  1. A computer-implemented method of designing ...   706\n",
       "1                1 . A system including: a comput...   705\n",
       "2  1. A weather information display device compri...   706\n",
       "3  1 . A method of obtaining a user&#39;s measure...   705\n",
       "4  1 . A method for providing borrower foreclosur...   705"
      ]
     },
     "execution_count": 6,
     "metadata": {},
     "output_type": "execute_result"
    }
   ],
   "source": [
    "df.head()"
   ]
  },
  {
   "cell_type": "code",
   "execution_count": 26,
   "metadata": {
    "ExecuteTime": {
     "end_time": "2018-11-28T06:06:06.823597Z",
     "start_time": "2018-11-28T06:06:06.612089Z"
    }
   },
   "outputs": [],
   "source": [
    "df['part_1'] = df['clm'].str.split('3.')"
   ]
  },
  {
   "cell_type": "code",
   "execution_count": 30,
   "metadata": {
    "ExecuteTime": {
     "end_time": "2018-11-28T06:08:00.428959Z",
     "start_time": "2018-11-28T06:08:00.423037Z"
    }
   },
   "outputs": [
    {
     "data": {
      "text/plain": [
       "['1. A computer-implemented method of designing a set of experiments to be performed with a set of resources, the method comprising: generating, by a computer, a plurality of configurations based on a set of parameters and experimental constraints, each configuration including a plurality of experimental points, each experimental point having a set of values for the parameters, one or more patterns representing the application of parameters to one or more lattice points of an experiment lattice under the experimental constraints, wherein experimental constraints for a given pattern of the one or more patterns are represented by a set of attributes, and wherein the generating comprises: generating a plurality of pattern instances of at least one of the one or more patterns, each pattern instance defined by a set of attribute values for the set of attributes representing the experimental constraints for the at least one of the one or more patterns, the set of attribute values specifying a quantity of a parameter to be applied at one or more lattice points of the experiment lattice; and  combining the plurality of pattern instances to generate a configuration such that the parameter values for an experimental point in the configuration generated by combining the plurality of pattern instances are based on the parameter values specified by the combined pattern instances for a corresponding lattice location;   selecting, by the computer, a configuration from the plurality of configurations;  defining, by the computer, a set of experiments based on the selected configuration; and  displaying, by the computer, a visual representation of the defined set of experiments,  wherein the set of parameters includes a plurality of factors to be varied in the set of experiments and represents axes defining a parameter space, and  wherein the experimental constraints represent limitations on operations that can be performed with the set of resources.                   2. The method of  claim 1 , further comprising: outputting the design in a format suitable for implementation using an automated synthesis tool.                   ',\n",
       " ' The method of  claim 1 , further comprising: preparing a library embodying the set of experiments based on the design.                   4. A computer program product on a computer-readable storage medium for designing a set of experiments to be performed with a set of resources, the program comprising instructions operable to cause a programmable processor to: generate a plurality of configurations based on a set of parameters and a set of constraints, each configuration including a plurality of experimental points, each experimental point having a set of values for the parameters, one or more patterns representing the application of parameters to one or more lattice points of an experiment lattice under the set of constraints, wherein constraints for a given pattern of the one or more patterns are represented by a set of attributes;  generate a plurality of pattern instances of at least one of the one or more patterns, each pattern instance defined by a set of attribute values for the set of attributes representing the set of constraints for the at least one of the one or more patterns, the set of attribute values specifying a quantity of a parameter to be applied at one or more lattice points of the experiment lattice;  combine the plurality of pattern instances to generate a configuration such that the parameter values for an experimental point in the configuration generated by combining the plurality of pattern instances are based on the parameter values specified by the combined pattern instances for a corresponding lattice location;  select a configuration from the plurality of configurations;  define a set of experiments based on the selected configuration; and  display a visual representation of the defined set of experiments,  wherein the set of parameters includes a plurality of factors to be varied in the set of experiments and represents axes defining a parameter space, and  wherein the set of constraints includes one or more experimental constraints representing limitations on operations that can be performed with the set of resources.                   5. The computer program product of  claim 4 , further comprising: instructions operable to cause a programmable processor to output the design in a format suitable for implementation using an automated synthesis tool.                   6. The computer program product of  claim 4 , further comprising: instructions operable to cause a programmable processor to cause an automated synthesis device to prepare a library embodying the set of experiments based on the design.                   7. A computer-implemented system for designing a set of experiments to be performed with a set of resources, the system comprising: a set of resources comprising one or more automated synthesis devices for carrying out a set of experiments;  a memory storing a set of parameters, experimental constraints, and one or more patterns, the set of parameters including a plurality of factors to be varied in the set of experiments and representing axes defining a parameter space, the experimental constraints representing limitations on operations that can be performed with the set of resources, the one or more patterns representing the application of parameters to one or more lattice points of an experiment lattice under the experimental constraints, wherein experimental constraints for a given pattern of the one or more patterns are represented by a set of attributes; and  a programmable processor configured to perform operations comprising: generating a plurality of configurations based on the set of parameters and the experimental constraints, each configuration including a plurality of experimental points, each experimental point having a set of values for the parameters, the generating comprising: generating a plurality of pattern instances of at least one of the one or more patterns, each pattern instance defined by a set of attribute values for the set of attributes representing the experimental constraints for the at least one of the one or more patterns, the set of attribute values specifying a quantity of a parameter to be applied at one or more lattice points of the experiment lattice; and  combining the plurality of pattern instances to generate a configuration such that the parameter values for an experimental point in the configuration generated by combining the plurality of pattern instances are based on the parameter values specified by the combined pattern instances for a corresponding lattice location;   selecting a configuration from the plurality of configurations;  defining the set of experiments based on the selected configuration; and  outputting a design for the defined set of experiments in a format suitable for implementation using one or more of the automated synthesis devices.                    8. The system of  claim 7 , wherein: the programmable processor is configured to display a visual representation of the defined set of experiments over a graphical user interface.                   9. The system of  claim 7 , wherein: the automated synthesis devices include one or more devices for performing operations at one or more locations represented by lattice points of the experiment lattice; and  the one or more patterns include one or more device patterns having attributes representing constraints associated with the one or more devices.                   10. The system of  claim 9 , wherein: the operations include process steps for applying parameters at the locations.                   11. The system of  claim 10 , wherein: the process steps include depositing materials at one or more of the locations.                   12. The system of  claim 10 , wherein: the process steps include subjecting materials at one or more of the locations to processing conditions.                   1',\n",
       " ' The system of  claim 9 , wherein: the device pattern attributes for one or more device patterns include one or more device geometry attributes specifying a geometry in which a parameter will be applied to a substrate.                   14. The system of  claim 1',\n",
       " ', wherein: the device geometry attributes include a thickness attribute representing a quantity of the parameter to be applied.                   15. The system of  claim 9 , wherein: the one or more devices comprise a mask; and  one or more of the device patterns represent openings in the mask for exposing locations on a substrate.                   16. The system of  claim 9 , wherein: the one or more devices comprise a shutter mask system for exposing locations on a substrate; and  one or more of the device patterns represent openings in the shutter mask system.                   17. The system of  claim 9 , wherein: the one or more devices comprise a set of dispensing tips for delivering materials to locations on a substrate; and  one or more of the device patterns represent the set of dispensing tips.                   18. The system of  claim 9 , further comprising: a set of dispensing tips for delivering materials to locations on a substrate;  wherein the plurality of pattern instances includes a plurality of device pattern instances specifying amounts of one or more materials to be deposited at locations on the substrate.                   19. The system of  claim 7 , wherein: the experimental constraints comprises one or more component patterns representing an arrangement of materials to be used in performing a set of experiments; and  generating the plurality of pattern instances includes superimposing the pattern instances with the component patterns, such that the pattern instances represent the application of the arrangement of materials to lattice points of the experiment lattice.                   20. The system of  claim 19 , wherein: the component patterns include a component pattern representing a library lattice for a parent library of materials to be used in performing a set of experiments.                   21. The system of  claim 19 , wherein: the one or more component patterns include a first component pattern representing a first arrangement of materials that could be used in performing the set of experiments and a second arrangement of materials that could be used in performing the set of experiments;  generating the plurality of configurations includes generating a first configuration based on the first component pattern and a second configuration based on the second component pattern; and  selecting the configuration includes identifying an optimum component pattern from the first and second component patterns.                   22. The system of  claim 7 , wherein: combining the plurality of pattern instances includes superimposing a plurality of pattern instances with one or more experiment lattices.                   2',\n",
       " ' The system of  claim 7 , wherein: each configuration in the plurality of configurations represents a set of experiments that can be performed with the set of resources.                   24. The system of  claim 7 , wherein: generating the plurality of configurations includes repeating the steps of generating the plurality of pattern instances and combining the plurality of pattern instances.                   25. The system of  claim 24 , wherein: generating the plurality of configurations includes generating a plurality of sets of pattern instances by varying the number and/or attribute values of pattern instances.                   26. The system of  claim 7 , wherein: generating the plurality of configurations includes generating a first configuration and subsequently generating a sequence of second configurations, each of the second configurations being generated by adding a pattern instance to a preceding configuration in the sequence, removing a pattern instance from a preceding configuration in the sequence, or changing an attribute value for an attribute of a pattern instance in a preceding configuration in the sequence.                   27. The system of  claim 7 , wherein: combining the plurality of pattern instances includes defining a sequence of pattern instances, the points in the configuration being defined in part by order information derived from the sequence.                   28. The system of  claim 27 , wherein: generating the plurality of configurations includes generating a first configuration and subsequently generating a sequence of second configurations, each of the second configurations being generated by adding a pattern instance to a preceding configuration in the sequence, removing a pattern instance from a preceding configuration in the sequence, changing an attribute value for an attribute of a pattern instance in a preceding configuration in the sequence, or changing the position of a pattern instance in the sequence.                   29. The system of  claim 27 , wherein: selecting the configuration includes identifying an optimum sequence of events for the set of experiments.                   ',\n",
       " '. The system of  claim 7 , wherein: the one or more patterns includes patterns representing alternate applications of parameters to lattice points of an experiment lattice, the one or more patterns including a first pattern defined by a first set of attributes and a second pattern defined by a second set of attributes, the second set of attributes differing from the first set of attributes in at least one attribute;  generating the plurality of configurations includes combining instances of the first pattern to generate a first configuration and combining instances of the second pattern to generate a second configuration; and  selecting the configuration includes identifying an optimum pattern from the first and second patterns.                   ',\n",
       " '. The system of  claim 7 , wherein: the one or more experiment lattices include a first experiment lattice representing a first arrangement in which a set of experiments could be performed and a second experiment lattice representing a second arrangement in which the set of experiments could be performed;  generating the plurality of configurations includes superimposing pattern instances with the first experiment lattice to generate a first configuration and superimposing pattern instances with the second experiment lattice to generate a second configuration; and  selecting the configuration includes identifying an optimum experiment lattice from the first and second experiment lattices.']"
      ]
     },
     "execution_count": 30,
     "metadata": {},
     "output_type": "execute_result"
    }
   ],
   "source": [
    "df['part_1'][0]"
   ]
  },
  {
   "cell_type": "code",
   "execution_count": 32,
   "metadata": {
    "ExecuteTime": {
     "end_time": "2018-11-28T06:08:35.843196Z",
     "start_time": "2018-11-28T06:08:35.835895Z"
    }
   },
   "outputs": [],
   "source": [
    "df['claim_1'],df['claim_2'] = df['part_1'][0][0].split('2.')"
   ]
  },
  {
   "cell_type": "code",
   "execution_count": 33,
   "metadata": {
    "ExecuteTime": {
     "end_time": "2018-11-28T06:08:43.127581Z",
     "start_time": "2018-11-28T06:08:43.105743Z"
    }
   },
   "outputs": [
    {
     "data": {
      "text/html": [
       "<div>\n",
       "<style scoped>\n",
       "    .dataframe tbody tr th:only-of-type {\n",
       "        vertical-align: middle;\n",
       "    }\n",
       "\n",
       "    .dataframe tbody tr th {\n",
       "        vertical-align: top;\n",
       "    }\n",
       "\n",
       "    .dataframe thead th {\n",
       "        text-align: right;\n",
       "    }\n",
       "</style>\n",
       "<table border=\"1\" class=\"dataframe\">\n",
       "  <thead>\n",
       "    <tr style=\"text-align: right;\">\n",
       "      <th></th>\n",
       "      <th>clm</th>\n",
       "      <th>code</th>\n",
       "      <th>part_1</th>\n",
       "      <th>claim_1</th>\n",
       "      <th>claim_2</th>\n",
       "    </tr>\n",
       "  </thead>\n",
       "  <tbody>\n",
       "    <tr>\n",
       "      <th>0</th>\n",
       "      <td>1. A computer-implemented method of designing ...</td>\n",
       "      <td>706</td>\n",
       "      <td>[1. A computer-implemented method of designing...</td>\n",
       "      <td>1. A computer-implemented method of designing ...</td>\n",
       "      <td>The method of  claim 1 , further comprising: ...</td>\n",
       "    </tr>\n",
       "    <tr>\n",
       "      <th>1</th>\n",
       "      <td>1 . A system including: a comput...</td>\n",
       "      <td>705</td>\n",
       "      <td>[              1 . A system including: a compu...</td>\n",
       "      <td>1. A computer-implemented method of designing ...</td>\n",
       "      <td>The method of  claim 1 , further comprising: ...</td>\n",
       "    </tr>\n",
       "    <tr>\n",
       "      <th>2</th>\n",
       "      <td>1. A weather information display device compri...</td>\n",
       "      <td>706</td>\n",
       "      <td>[1. A weather information display device compr...</td>\n",
       "      <td>1. A computer-implemented method of designing ...</td>\n",
       "      <td>The method of  claim 1 , further comprising: ...</td>\n",
       "    </tr>\n",
       "    <tr>\n",
       "      <th>3</th>\n",
       "      <td>1 . A method of obtaining a user&amp;#39;s measure...</td>\n",
       "      <td>705</td>\n",
       "      <td>[1 . A method of obtaining a user&amp;#, ;s measur...</td>\n",
       "      <td>1. A computer-implemented method of designing ...</td>\n",
       "      <td>The method of  claim 1 , further comprising: ...</td>\n",
       "    </tr>\n",
       "    <tr>\n",
       "      <th>4</th>\n",
       "      <td>1 . A method for providing borrower foreclosur...</td>\n",
       "      <td>705</td>\n",
       "      <td>[1 . A method for providing borrower foreclosu...</td>\n",
       "      <td>1. A computer-implemented method of designing ...</td>\n",
       "      <td>The method of  claim 1 , further comprising: ...</td>\n",
       "    </tr>\n",
       "  </tbody>\n",
       "</table>\n",
       "</div>"
      ],
      "text/plain": [
       "                                                 clm  code  \\\n",
       "0  1. A computer-implemented method of designing ...   706   \n",
       "1                1 . A system including: a comput...   705   \n",
       "2  1. A weather information display device compri...   706   \n",
       "3  1 . A method of obtaining a user&#39;s measure...   705   \n",
       "4  1 . A method for providing borrower foreclosur...   705   \n",
       "\n",
       "                                              part_1  \\\n",
       "0  [1. A computer-implemented method of designing...   \n",
       "1  [              1 . A system including: a compu...   \n",
       "2  [1. A weather information display device compr...   \n",
       "3  [1 . A method of obtaining a user&#, ;s measur...   \n",
       "4  [1 . A method for providing borrower foreclosu...   \n",
       "\n",
       "                                             claim_1  \\\n",
       "0  1. A computer-implemented method of designing ...   \n",
       "1  1. A computer-implemented method of designing ...   \n",
       "2  1. A computer-implemented method of designing ...   \n",
       "3  1. A computer-implemented method of designing ...   \n",
       "4  1. A computer-implemented method of designing ...   \n",
       "\n",
       "                                             claim_2  \n",
       "0   The method of  claim 1 , further comprising: ...  \n",
       "1   The method of  claim 1 , further comprising: ...  \n",
       "2   The method of  claim 1 , further comprising: ...  \n",
       "3   The method of  claim 1 , further comprising: ...  \n",
       "4   The method of  claim 1 , further comprising: ...  "
      ]
     },
     "execution_count": 33,
     "metadata": {},
     "output_type": "execute_result"
    }
   ],
   "source": [
    "df.head()"
   ]
  },
  {
   "cell_type": "code",
   "execution_count": 34,
   "metadata": {
    "ExecuteTime": {
     "end_time": "2018-11-28T06:11:53.347955Z",
     "start_time": "2018-11-28T06:11:53.307793Z"
    }
   },
   "outputs": [],
   "source": [
    "df.drop(['clm','part_1'],axis=1, inplace=True)"
   ]
  },
  {
   "cell_type": "code",
   "execution_count": 35,
   "metadata": {
    "ExecuteTime": {
     "end_time": "2018-11-28T06:12:01.178097Z",
     "start_time": "2018-11-28T06:12:01.164208Z"
    }
   },
   "outputs": [
    {
     "data": {
      "text/html": [
       "<div>\n",
       "<style scoped>\n",
       "    .dataframe tbody tr th:only-of-type {\n",
       "        vertical-align: middle;\n",
       "    }\n",
       "\n",
       "    .dataframe tbody tr th {\n",
       "        vertical-align: top;\n",
       "    }\n",
       "\n",
       "    .dataframe thead th {\n",
       "        text-align: right;\n",
       "    }\n",
       "</style>\n",
       "<table border=\"1\" class=\"dataframe\">\n",
       "  <thead>\n",
       "    <tr style=\"text-align: right;\">\n",
       "      <th></th>\n",
       "      <th>code</th>\n",
       "      <th>claim_1</th>\n",
       "      <th>claim_2</th>\n",
       "    </tr>\n",
       "  </thead>\n",
       "  <tbody>\n",
       "    <tr>\n",
       "      <th>0</th>\n",
       "      <td>706</td>\n",
       "      <td>1. A computer-implemented method of designing ...</td>\n",
       "      <td>The method of  claim 1 , further comprising: ...</td>\n",
       "    </tr>\n",
       "    <tr>\n",
       "      <th>1</th>\n",
       "      <td>705</td>\n",
       "      <td>1. A computer-implemented method of designing ...</td>\n",
       "      <td>The method of  claim 1 , further comprising: ...</td>\n",
       "    </tr>\n",
       "    <tr>\n",
       "      <th>2</th>\n",
       "      <td>706</td>\n",
       "      <td>1. A computer-implemented method of designing ...</td>\n",
       "      <td>The method of  claim 1 , further comprising: ...</td>\n",
       "    </tr>\n",
       "    <tr>\n",
       "      <th>3</th>\n",
       "      <td>705</td>\n",
       "      <td>1. A computer-implemented method of designing ...</td>\n",
       "      <td>The method of  claim 1 , further comprising: ...</td>\n",
       "    </tr>\n",
       "    <tr>\n",
       "      <th>4</th>\n",
       "      <td>705</td>\n",
       "      <td>1. A computer-implemented method of designing ...</td>\n",
       "      <td>The method of  claim 1 , further comprising: ...</td>\n",
       "    </tr>\n",
       "  </tbody>\n",
       "</table>\n",
       "</div>"
      ],
      "text/plain": [
       "   code                                            claim_1  \\\n",
       "0   706  1. A computer-implemented method of designing ...   \n",
       "1   705  1. A computer-implemented method of designing ...   \n",
       "2   706  1. A computer-implemented method of designing ...   \n",
       "3   705  1. A computer-implemented method of designing ...   \n",
       "4   705  1. A computer-implemented method of designing ...   \n",
       "\n",
       "                                             claim_2  \n",
       "0   The method of  claim 1 , further comprising: ...  \n",
       "1   The method of  claim 1 , further comprising: ...  \n",
       "2   The method of  claim 1 , further comprising: ...  \n",
       "3   The method of  claim 1 , further comprising: ...  \n",
       "4   The method of  claim 1 , further comprising: ...  "
      ]
     },
     "execution_count": 35,
     "metadata": {},
     "output_type": "execute_result"
    }
   ],
   "source": [
    "df.head()"
   ]
  },
  {
   "cell_type": "code",
   "execution_count": 36,
   "metadata": {
    "ExecuteTime": {
     "end_time": "2018-11-28T06:13:27.864002Z",
     "start_time": "2018-11-28T06:13:27.845136Z"
    }
   },
   "outputs": [],
   "source": [
    "df = df[df['code']==706]"
   ]
  },
  {
   "cell_type": "code",
   "execution_count": 43,
   "metadata": {
    "ExecuteTime": {
     "end_time": "2018-11-28T06:15:08.226187Z",
     "start_time": "2018-11-28T06:15:08.219701Z"
    }
   },
   "outputs": [
    {
     "data": {
      "text/plain": [
       "2572"
      ]
     },
     "execution_count": 43,
     "metadata": {},
     "output_type": "execute_result"
    }
   ],
   "source": [
    "len(df)"
   ]
  },
  {
   "cell_type": "code",
   "execution_count": 46,
   "metadata": {
    "ExecuteTime": {
     "end_time": "2018-11-28T06:43:39.320891Z",
     "start_time": "2018-11-28T06:43:38.972741Z"
    }
   },
   "outputs": [],
   "source": [
    "df.to_csv('/Users/rcm/Google Drive/Galvanize Data Science Immersive/Capstone/data/classification/code_claim_1_claim_2.csv')"
   ]
  },
  {
   "cell_type": "code",
   "execution_count": null,
   "metadata": {},
   "outputs": [],
   "source": []
  }
 ],
 "metadata": {
  "kernelspec": {
   "display_name": "Python 3",
   "language": "python",
   "name": "python3"
  },
  "language_info": {
   "codemirror_mode": {
    "name": "ipython",
    "version": 3
   },
   "file_extension": ".py",
   "mimetype": "text/x-python",
   "name": "python",
   "nbconvert_exporter": "python",
   "pygments_lexer": "ipython3",
   "version": "3.6.5"
  },
  "toc": {
   "base_numbering": 1,
   "nav_menu": {},
   "number_sections": true,
   "sideBar": true,
   "skip_h1_title": false,
   "title_cell": "Table of Contents",
   "title_sidebar": "Contents",
   "toc_cell": false,
   "toc_position": {},
   "toc_section_display": true,
   "toc_window_display": false
  },
  "varInspector": {
   "cols": {
    "lenName": 16,
    "lenType": 16,
    "lenVar": "60"
   },
   "kernels_config": {
    "python": {
     "delete_cmd_postfix": "",
     "delete_cmd_prefix": "del ",
     "library": "var_list.py",
     "varRefreshCmd": "print(var_dic_list())"
    },
    "r": {
     "delete_cmd_postfix": ") ",
     "delete_cmd_prefix": "rm(",
     "library": "var_list.r",
     "varRefreshCmd": "cat(var_dic_list()) "
    }
   },
   "types_to_exclude": [
    "module",
    "function",
    "builtin_function_or_method",
    "instance",
    "_Feature"
   ],
   "window_display": false
  }
 },
 "nbformat": 4,
 "nbformat_minor": 2
}
