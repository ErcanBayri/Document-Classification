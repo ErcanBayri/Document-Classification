{
  "nbformat": 4,
  "nbformat_minor": 0,
  "metadata": {
    "colab": {
      "name": "Patent Classification.ipynb",
      "version": "0.3.2",
      "provenance": [],
      "include_colab_link": true
    },
    "kernelspec": {
      "name": "python3",
      "display_name": "Python 3"
    }
  },
  "cells": [
    {
      "cell_type": "markdown",
      "metadata": {
        "id": "view-in-github",
        "colab_type": "text"
      },
      "source": [
        "<a href=\"https://colab.research.google.com/github/rcmckee/dsi-Capstone/blob/master/Patent_Classification.ipynb\" target=\"_parent\"><img src=\"https://colab.research.google.com/assets/colab-badge.svg\" alt=\"Open In Colab\"/></a>"
      ]
    },
    {
      "metadata": {
        "id": "YMXrGSVuFK0i",
        "colab_type": "code",
        "colab": {}
      },
      "cell_type": "code",
      "source": [
        "import pandas as pd\n",
        "import numpy as np\n",
        "import scipy.stats as scs\n",
        "import statsmodels.api as sm\n",
        "import matplotlib.pyplot as plt\n",
        "\n",
        "%matplotlib inline\n",
        "%config InlineBackend.figure_format='retina'"
      ],
      "execution_count": 0,
      "outputs": []
    },
    {
      "metadata": {
        "id": "QJ8RnnDnGfVl",
        "colab_type": "code",
        "colab": {
          "base_uri": "https://localhost:8080/",
          "height": 51
        },
        "outputId": "8bb32283-2c6a-4ee4-c96f-beb047dc11cf"
      },
      "cell_type": "code",
      "source": [
        "# Code to read csv file into Colaboratory:\n",
        "!pip install -U -q PyDrive\n",
        "from pydrive.auth import GoogleAuth\n",
        "from pydrive.drive import GoogleDrive\n",
        "from google.colab import auth\n",
        "from oauth2client.client import GoogleCredentials\n"
      ],
      "execution_count": 3,
      "outputs": [
        {
          "output_type": "stream",
          "text": [
            "\u001b[?25l\r\u001b[K    1% |▎                               | 10kB 16.6MB/s eta 0:00:01\r\u001b[K    2% |▋                               | 20kB 3.4MB/s eta 0:00:01\r\u001b[K    3% |█                               | 30kB 4.8MB/s eta 0:00:01\r\u001b[K    4% |█▎                              | 40kB 3.1MB/s eta 0:00:01\r\u001b[K    5% |█▋                              | 51kB 3.8MB/s eta 0:00:01\r\u001b[K    6% |██                              | 61kB 4.5MB/s eta 0:00:01\r\u001b[K    7% |██▎                             | 71kB 5.1MB/s eta 0:00:01\r\u001b[K    8% |██▋                             | 81kB 5.7MB/s eta 0:00:01\r\u001b[K    9% |███                             | 92kB 6.3MB/s eta 0:00:01\r\u001b[K    10% |███▎                            | 102kB 4.9MB/s eta 0:00:01\r\u001b[K    11% |███▋                            | 112kB 4.9MB/s eta 0:00:01\r\u001b[K    12% |████                            | 122kB 6.5MB/s eta 0:00:01\r\u001b[K    13% |████▎                           | 133kB 6.3MB/s eta 0:00:01\r\u001b[K    14% |████▋                           | 143kB 10.7MB/s eta 0:00:01\r\u001b[K    15% |█████                           | 153kB 10.8MB/s eta 0:00:01\r\u001b[K    16% |█████▎                          | 163kB 10.8MB/s eta 0:00:01\r\u001b[K    17% |█████▋                          | 174kB 10.5MB/s eta 0:00:01\r\u001b[K    18% |██████                          | 184kB 10.7MB/s eta 0:00:01\r\u001b[K    19% |██████▎                         | 194kB 10.7MB/s eta 0:00:01\r\u001b[K    20% |██████▋                         | 204kB 15.0MB/s eta 0:00:01\r\u001b[K    21% |███████                         | 215kB 14.8MB/s eta 0:00:01\r\u001b[K    22% |███████▎                        | 225kB 15.2MB/s eta 0:00:01\r\u001b[K    23% |███████▋                        | 235kB 16.4MB/s eta 0:00:01\r\u001b[K    24% |████████                        | 245kB 15.9MB/s eta 0:00:01\r\u001b[K    25% |████████▎                       | 256kB 16.1MB/s eta 0:00:01\r\u001b[K    26% |████████▋                       | 266kB 13.9MB/s eta 0:00:01\r\u001b[K    27% |█████████                       | 276kB 14.3MB/s eta 0:00:01\r\u001b[K    29% |█████████▎                      | 286kB 14.3MB/s eta 0:00:01\r\u001b[K    30% |█████████▋                      | 296kB 14.2MB/s eta 0:00:01\r\u001b[K    31% |██████████                      | 307kB 28.2MB/s eta 0:00:01\r\u001b[K    32% |██████████▎                     | 317kB 30.5MB/s eta 0:00:01\r\u001b[K    33% |██████████▋                     | 327kB 30.6MB/s eta 0:00:01\r\u001b[K    34% |███████████                     | 337kB 30.7MB/s eta 0:00:01\r\u001b[K    35% |███████████▎                    | 348kB 30.6MB/s eta 0:00:01\r\u001b[K    36% |███████████▋                    | 358kB 30.8MB/s eta 0:00:01\r\u001b[K    37% |████████████                    | 368kB 44.4MB/s eta 0:00:01\r\u001b[K    38% |████████████▎                   | 378kB 44.6MB/s eta 0:00:01\r\u001b[K    39% |████████████▋                   | 389kB 45.4MB/s eta 0:00:01\r\u001b[K    40% |█████████████                   | 399kB 45.8MB/s eta 0:00:01\r\u001b[K    41% |█████████████▎                  | 409kB 30.0MB/s eta 0:00:01\r\u001b[K    42% |█████████████▋                  | 419kB 29.9MB/s eta 0:00:01\r\u001b[K    43% |██████████████                  | 430kB 29.2MB/s eta 0:00:01\r\u001b[K    44% |██████████████▎                 | 440kB 29.3MB/s eta 0:00:01\r\u001b[K    45% |██████████████▋                 | 450kB 30.3MB/s eta 0:00:01\r\u001b[K    46% |███████████████                 | 460kB 29.5MB/s eta 0:00:01\r\u001b[K    47% |███████████████▎                | 471kB 29.3MB/s eta 0:00:01\r\u001b[K    48% |███████████████▋                | 481kB 29.2MB/s eta 0:00:01\r\u001b[K    49% |████████████████                | 491kB 24.2MB/s eta 0:00:01\r\u001b[K    50% |████████████████▎               | 501kB 23.8MB/s eta 0:00:01\r\u001b[K    51% |████████████████▋               | 512kB 30.1MB/s eta 0:00:01\r\u001b[K    52% |█████████████████               | 522kB 30.3MB/s eta 0:00:01\r\u001b[K    53% |█████████████████▎              | 532kB 31.2MB/s eta 0:00:01\r\u001b[K    54% |█████████████████▋              | 542kB 31.1MB/s eta 0:00:01\r\u001b[K    55% |██████████████████              | 552kB 32.2MB/s eta 0:00:01\r\u001b[K    57% |██████████████████▎             | 563kB 32.8MB/s eta 0:00:01\r\u001b[K    58% |██████████████████▋             | 573kB 32.7MB/s eta 0:00:01\r\u001b[K    59% |███████████████████             | 583kB 33.1MB/s eta 0:00:01\r\u001b[K    60% |███████████████████▎            | 593kB 43.3MB/s eta 0:00:01\r\u001b[K    61% |███████████████████▋            | 604kB 45.4MB/s eta 0:00:01\r\u001b[K    62% |████████████████████            | 614kB 50.9MB/s eta 0:00:01\r\u001b[K    63% |████████████████████▎           | 624kB 50.3MB/s eta 0:00:01\r\u001b[K    64% |████████████████████▋           | 634kB 50.7MB/s eta 0:00:01\r\u001b[K    65% |█████████████████████           | 645kB 51.0MB/s eta 0:00:01\r\u001b[K    66% |█████████████████████▎          | 655kB 50.2MB/s eta 0:00:01\r\u001b[K    67% |█████████████████████▋          | 665kB 41.5MB/s eta 0:00:01\r\u001b[K    68% |██████████████████████          | 675kB 41.0MB/s eta 0:00:01\r\u001b[K    69% |██████████████████████▎         | 686kB 41.1MB/s eta 0:00:01\r\u001b[K    70% |██████████████████████▋         | 696kB 40.9MB/s eta 0:00:01\r\u001b[K    71% |███████████████████████         | 706kB 39.5MB/s eta 0:00:01\r\u001b[K    72% |███████████████████████▎        | 716kB 40.2MB/s eta 0:00:01\r\u001b[K    73% |███████████████████████▋        | 727kB 40.1MB/s eta 0:00:01\r\u001b[K    74% |████████████████████████        | 737kB 38.3MB/s eta 0:00:01\r\u001b[K    75% |████████████████████████▎       | 747kB 38.5MB/s eta 0:00:01\r\u001b[K    76% |████████████████████████▋       | 757kB 39.0MB/s eta 0:00:01\r\u001b[K    77% |████████████████████████▉       | 768kB 47.8MB/s eta 0:00:01\r\u001b[K    78% |█████████████████████████▏      | 778kB 48.9MB/s eta 0:00:01\r\u001b[K    79% |█████████████████████████▌      | 788kB 47.9MB/s eta 0:00:01\r\u001b[K    80% |█████████████████████████▉      | 798kB 48.1MB/s eta 0:00:01\r\u001b[K    81% |██████████████████████████▏     | 808kB 49.9MB/s eta 0:00:01\r\u001b[K    82% |██████████████████████████▌     | 819kB 47.3MB/s eta 0:00:01\r\u001b[K    83% |██████████████████████████▉     | 829kB 47.4MB/s eta 0:00:01\r\u001b[K    85% |███████████████████████████▏    | 839kB 49.3MB/s eta 0:00:01\r\u001b[K    86% |███████████████████████████▌    | 849kB 49.3MB/s eta 0:00:01\r\u001b[K    87% |███████████████████████████▉    | 860kB 43.1MB/s eta 0:00:01\r\u001b[K    88% |████████████████████████████▏   | 870kB 42.5MB/s eta 0:00:01\r\u001b[K    89% |████████████████████████████▌   | 880kB 42.8MB/s eta 0:00:01\r\u001b[K    90% |████████████████████████████▉   | 890kB 43.5MB/s eta 0:00:01\r\u001b[K    91% |█████████████████████████████▏  | 901kB 43.1MB/s eta 0:00:01\r\u001b[K    92% |█████████████████████████████▌  | 911kB 42.8MB/s eta 0:00:01\r\u001b[K    93% |█████████████████████████████▉  | 921kB 44.1MB/s eta 0:00:01\r\u001b[K    94% |██████████████████████████████▏ | 931kB 44.8MB/s eta 0:00:01\r\u001b[K    95% |██████████████████████████████▌ | 942kB 45.5MB/s eta 0:00:01\r\u001b[K    96% |██████████████████████████████▉ | 952kB 44.6MB/s eta 0:00:01\r\u001b[K    97% |███████████████████████████████▏| 962kB 51.8MB/s eta 0:00:01\r\u001b[K    98% |███████████████████████████████▌| 972kB 52.4MB/s eta 0:00:01\r\u001b[K    99% |███████████████████████████████▉| 983kB 52.5MB/s eta 0:00:01\r\u001b[K    100% |████████████████████████████████| 993kB 14.2MB/s \n",
            "\u001b[?25h  Building wheel for PyDrive (setup.py) ... \u001b[?25ldone\n",
            "\u001b[?25h"
          ],
          "name": "stdout"
        }
      ]
    },
    {
      "metadata": {
        "id": "QcA3OHBhGsVC",
        "colab_type": "code",
        "colab": {}
      },
      "cell_type": "code",
      "source": [
        "# Authenticate and create the PyDrive client.\n",
        "auth.authenticate_user()\n",
        "gauth = GoogleAuth()\n",
        "gauth.credentials = GoogleCredentials.get_application_default()\n",
        "drive = GoogleDrive(gauth)"
      ],
      "execution_count": 0,
      "outputs": []
    },
    {
      "metadata": {
        "id": "NLQS3r_uGswm",
        "colab_type": "code",
        "colab": {}
      },
      "cell_type": "code",
      "source": [
        "downloaded = drive.CreateFile({'id':'1UcoQDxQe5MGruMUoD4013HrTz346OH8i'}) \n",
        "downloaded.GetContentFile('small_700_through_710_descr_clm_code.csv')  \n",
        "df = pd.read_csv('small_700_through_710_descr_clm_code.csv')\n",
        "# Dataset is now stored in a Pandas Dataframe\n"
      ],
      "execution_count": 0,
      "outputs": []
    },
    {
      "metadata": {
        "id": "ESVoFcmdH6Uo",
        "colab_type": "code",
        "colab": {
          "base_uri": "https://localhost:8080/",
          "height": 204
        },
        "outputId": "24bd29af-01f2-4f8d-e514-5d558fbb1502"
      },
      "cell_type": "code",
      "source": [
        "df.head()"
      ],
      "execution_count": 14,
      "outputs": [
        {
          "output_type": "execute_result",
          "data": {
            "text/html": [
              "<div>\n",
              "<style scoped>\n",
              "    .dataframe tbody tr th:only-of-type {\n",
              "        vertical-align: middle;\n",
              "    }\n",
              "\n",
              "    .dataframe tbody tr th {\n",
              "        vertical-align: top;\n",
              "    }\n",
              "\n",
              "    .dataframe thead th {\n",
              "        text-align: right;\n",
              "    }\n",
              "</style>\n",
              "<table border=\"1\" class=\"dataframe\">\n",
              "  <thead>\n",
              "    <tr style=\"text-align: right;\">\n",
              "      <th></th>\n",
              "      <th>Unnamed: 0</th>\n",
              "      <th>descr</th>\n",
              "      <th>clm</th>\n",
              "      <th>code</th>\n",
              "    </tr>\n",
              "  </thead>\n",
              "  <tbody>\n",
              "    <tr>\n",
              "      <th>0</th>\n",
              "      <td>0</td>\n",
              "      <td>This application claims priority under 35 U.S....</td>\n",
              "      <td>What is claimed is: \\n     \\n         1 . A pr...</td>\n",
              "      <td>700</td>\n",
              "    </tr>\n",
              "    <tr>\n",
              "      <th>1</th>\n",
              "      <td>1</td>\n",
              "      <td>BACKGROUND \\n     1. Field of Invention \\n    ...</td>\n",
              "      <td>What is claimed is: \\n     \\n         1 . A st...</td>\n",
              "      <td>700</td>\n",
              "    </tr>\n",
              "    <tr>\n",
              "      <th>2</th>\n",
              "      <td>2</td>\n",
              "      <td>CROSS-REFERENCE TO RELATED APPLICATIONS \\n    ...</td>\n",
              "      <td>What is claimed is: \\n     \\n         1 . A me...</td>\n",
              "      <td>700</td>\n",
              "    </tr>\n",
              "    <tr>\n",
              "      <th>3</th>\n",
              "      <td>3</td>\n",
              "      <td>FIELD OF THE INVENTION \\n     The present inve...</td>\n",
              "      <td>1 . A method for state-transition-controlled p...</td>\n",
              "      <td>700</td>\n",
              "    </tr>\n",
              "    <tr>\n",
              "      <th>4</th>\n",
              "      <td>4</td>\n",
              "      <td>RELATED APPLICATION \\n     This application cl...</td>\n",
              "      <td>What is claimed is: \\n     \\n         1 . A me...</td>\n",
              "      <td>700</td>\n",
              "    </tr>\n",
              "  </tbody>\n",
              "</table>\n",
              "</div>"
            ],
            "text/plain": [
              "   Unnamed: 0                                              descr  \\\n",
              "0           0  This application claims priority under 35 U.S....   \n",
              "1           1  BACKGROUND \\n     1. Field of Invention \\n    ...   \n",
              "2           2  CROSS-REFERENCE TO RELATED APPLICATIONS \\n    ...   \n",
              "3           3  FIELD OF THE INVENTION \\n     The present inve...   \n",
              "4           4  RELATED APPLICATION \\n     This application cl...   \n",
              "\n",
              "                                                 clm  code  \n",
              "0  What is claimed is: \\n     \\n         1 . A pr...   700  \n",
              "1  What is claimed is: \\n     \\n         1 . A st...   700  \n",
              "2  What is claimed is: \\n     \\n         1 . A me...   700  \n",
              "3  1 . A method for state-transition-controlled p...   700  \n",
              "4  What is claimed is: \\n     \\n         1 . A me...   700  "
            ]
          },
          "metadata": {
            "tags": []
          },
          "execution_count": 14
        }
      ]
    },
    {
      "metadata": {
        "id": "MDJWwaFtFdxz",
        "colab_type": "code",
        "colab": {
          "base_uri": "https://localhost:8080/",
          "height": 204
        },
        "outputId": "f226c74a-7d23-492c-8080-f3db770a0a33"
      },
      "cell_type": "code",
      "source": [
        "df.drop('Unnamed: 0',axis=1, inplace=True)\n",
        "df = df[(df['code']==705)|(df['code']==706)|(df['code']==700)]\n",
        "df['descr_clm'] = df.descr + df.clm\n",
        "df.drop(['descr','clm'],axis=1, inplace=True)\n",
        "df['code'] = df['code'].astype('category')\n",
        "df.head()"
      ],
      "execution_count": 15,
      "outputs": [
        {
          "output_type": "execute_result",
          "data": {
            "text/html": [
              "<div>\n",
              "<style scoped>\n",
              "    .dataframe tbody tr th:only-of-type {\n",
              "        vertical-align: middle;\n",
              "    }\n",
              "\n",
              "    .dataframe tbody tr th {\n",
              "        vertical-align: top;\n",
              "    }\n",
              "\n",
              "    .dataframe thead th {\n",
              "        text-align: right;\n",
              "    }\n",
              "</style>\n",
              "<table border=\"1\" class=\"dataframe\">\n",
              "  <thead>\n",
              "    <tr style=\"text-align: right;\">\n",
              "      <th></th>\n",
              "      <th>code</th>\n",
              "      <th>descr_clm</th>\n",
              "    </tr>\n",
              "  </thead>\n",
              "  <tbody>\n",
              "    <tr>\n",
              "      <th>0</th>\n",
              "      <td>700</td>\n",
              "      <td>This application claims priority under 35 U.S....</td>\n",
              "    </tr>\n",
              "    <tr>\n",
              "      <th>1</th>\n",
              "      <td>700</td>\n",
              "      <td>BACKGROUND \\n     1. Field of Invention \\n    ...</td>\n",
              "    </tr>\n",
              "    <tr>\n",
              "      <th>2</th>\n",
              "      <td>700</td>\n",
              "      <td>CROSS-REFERENCE TO RELATED APPLICATIONS \\n    ...</td>\n",
              "    </tr>\n",
              "    <tr>\n",
              "      <th>3</th>\n",
              "      <td>700</td>\n",
              "      <td>FIELD OF THE INVENTION \\n     The present inve...</td>\n",
              "    </tr>\n",
              "    <tr>\n",
              "      <th>4</th>\n",
              "      <td>700</td>\n",
              "      <td>RELATED APPLICATION \\n     This application cl...</td>\n",
              "    </tr>\n",
              "  </tbody>\n",
              "</table>\n",
              "</div>"
            ],
            "text/plain": [
              "  code                                          descr_clm\n",
              "0  700  This application claims priority under 35 U.S....\n",
              "1  700  BACKGROUND \\n     1. Field of Invention \\n    ...\n",
              "2  700  CROSS-REFERENCE TO RELATED APPLICATIONS \\n    ...\n",
              "3  700  FIELD OF THE INVENTION \\n     The present inve...\n",
              "4  700  RELATED APPLICATION \\n     This application cl..."
            ]
          },
          "metadata": {
            "tags": []
          },
          "execution_count": 15
        }
      ]
    },
    {
      "metadata": {
        "id": "5etELzCVJEGg",
        "colab_type": "text"
      },
      "cell_type": "markdown",
      "source": [
        "# Data exploration"
      ]
    },
    {
      "metadata": {
        "id": "6KDJrO7fIs8m",
        "colab_type": "code",
        "colab": {
          "base_uri": "https://localhost:8080/",
          "height": 85
        },
        "outputId": "13bc5313-1a35-4334-9930-797816a22529"
      },
      "cell_type": "code",
      "source": [
        "df['code'].value_counts()"
      ],
      "execution_count": 16,
      "outputs": [
        {
          "output_type": "execute_result",
          "data": {
            "text/plain": [
              "706    1000\n",
              "705    1000\n",
              "700    1000\n",
              "Name: code, dtype: int64"
            ]
          },
          "metadata": {
            "tags": []
          },
          "execution_count": 16
        }
      ]
    },
    {
      "metadata": {
        "id": "JD8bXdGTIsrW",
        "colab_type": "code",
        "colab": {}
      },
      "cell_type": "code",
      "source": [
        "df['category_id'] = df['code'].factorize()[0]"
      ],
      "execution_count": 0,
      "outputs": []
    },
    {
      "metadata": {
        "id": "EcJP6L6jIyEk",
        "colab_type": "code",
        "colab": {
          "base_uri": "https://localhost:8080/",
          "height": 85
        },
        "outputId": "c4692e5a-f1f3-424a-cc0a-c02bf0d107d4"
      },
      "cell_type": "code",
      "source": [
        "df['category_id'].value_counts()"
      ],
      "execution_count": 18,
      "outputs": [
        {
          "output_type": "execute_result",
          "data": {
            "text/plain": [
              "1    1000\n",
              "2    1000\n",
              "0    1000\n",
              "Name: category_id, dtype: int64"
            ]
          },
          "metadata": {
            "tags": []
          },
          "execution_count": 18
        }
      ]
    },
    {
      "metadata": {
        "id": "MZp3DjrlI1Ak",
        "colab_type": "code",
        "colab": {}
      },
      "cell_type": "code",
      "source": [
        "category_id_df = df[['code', 'category_id']].drop_duplicates().sort_values('category_id')\n",
        "category_to_id = dict(category_id_df.values)\n",
        "id_to_category = dict(category_id_df[['category_id', 'code']].values)"
      ],
      "execution_count": 0,
      "outputs": []
    },
    {
      "metadata": {
        "id": "GIw0FGdxI3sm",
        "colab_type": "code",
        "colab": {
          "base_uri": "https://localhost:8080/",
          "height": 34
        },
        "outputId": "a7dcf91a-9b69-428b-b071-f4b450351120"
      },
      "cell_type": "code",
      "source": [
        "id_to_category"
      ],
      "execution_count": 20,
      "outputs": [
        {
          "output_type": "execute_result",
          "data": {
            "text/plain": [
              "{0: 700, 1: 705, 2: 706}"
            ]
          },
          "metadata": {
            "tags": []
          },
          "execution_count": 20
        }
      ]
    },
    {
      "metadata": {
        "id": "1aH1wZ_yI6tV",
        "colab_type": "code",
        "colab": {
          "base_uri": "https://localhost:8080/",
          "height": 204
        },
        "outputId": "400ef8fe-be54-41cf-8f28-4823c2af6f34"
      },
      "cell_type": "code",
      "source": [
        "df.sample(5, random_state=0)"
      ],
      "execution_count": 21,
      "outputs": [
        {
          "output_type": "execute_result",
          "data": {
            "text/html": [
              "<div>\n",
              "<style scoped>\n",
              "    .dataframe tbody tr th:only-of-type {\n",
              "        vertical-align: middle;\n",
              "    }\n",
              "\n",
              "    .dataframe tbody tr th {\n",
              "        vertical-align: top;\n",
              "    }\n",
              "\n",
              "    .dataframe thead th {\n",
              "        text-align: right;\n",
              "    }\n",
              "</style>\n",
              "<table border=\"1\" class=\"dataframe\">\n",
              "  <thead>\n",
              "    <tr style=\"text-align: right;\">\n",
              "      <th></th>\n",
              "      <th>code</th>\n",
              "      <th>descr_clm</th>\n",
              "      <th>category_id</th>\n",
              "    </tr>\n",
              "  </thead>\n",
              "  <tbody>\n",
              "    <tr>\n",
              "      <th>2077</th>\n",
              "      <td>700</td>\n",
              "      <td>CROSS-REFERENCE TO RELATED APPLICATION(S) \\n  ...</td>\n",
              "      <td>0</td>\n",
              "    </tr>\n",
              "    <tr>\n",
              "      <th>3401</th>\n",
              "      <td>706</td>\n",
              "      <td>BACKGROUND \\n     Many systems are instrumente...</td>\n",
              "      <td>2</td>\n",
              "    </tr>\n",
              "    <tr>\n",
              "      <th>4393</th>\n",
              "      <td>706</td>\n",
              "      <td>FIELD \\n     The subject matter disclosed here...</td>\n",
              "      <td>2</td>\n",
              "    </tr>\n",
              "    <tr>\n",
              "      <th>10648</th>\n",
              "      <td>705</td>\n",
              "      <td>This application is a continuation of U.S. pat...</td>\n",
              "      <td>1</td>\n",
              "    </tr>\n",
              "    <tr>\n",
              "      <th>10687</th>\n",
              "      <td>705</td>\n",
              "      <td>BACKGROUND \\n     1. Technical Field \\n     Em...</td>\n",
              "      <td>1</td>\n",
              "    </tr>\n",
              "  </tbody>\n",
              "</table>\n",
              "</div>"
            ],
            "text/plain": [
              "      code                                          descr_clm  category_id\n",
              "2077   700  CROSS-REFERENCE TO RELATED APPLICATION(S) \\n  ...            0\n",
              "3401   706  BACKGROUND \\n     Many systems are instrumente...            2\n",
              "4393   706  FIELD \\n     The subject matter disclosed here...            2\n",
              "10648  705  This application is a continuation of U.S. pat...            1\n",
              "10687  705  BACKGROUND \\n     1. Technical Field \\n     Em...            1"
            ]
          },
          "metadata": {
            "tags": []
          },
          "execution_count": 21
        }
      ]
    },
    {
      "metadata": {
        "id": "xJNaURyuJLcg",
        "colab_type": "code",
        "colab": {
          "base_uri": "https://localhost:8080/",
          "height": 287
        },
        "outputId": "69ca4d0f-0fd8-4150-ce3d-b5d725a9c9c6"
      },
      "cell_type": "code",
      "source": [
        "df.groupby('code').descr_clm.count().plot.bar(ylim=0);"
      ],
      "execution_count": 22,
      "outputs": [
        {
          "output_type": "display_data",
          "data": {
            "image/png": "[encoded data removed]",
            "text/plain": [
              "<Figure size 432x288 with 1 Axes>"
            ]
          },
          "metadata": {
            "tags": [],
            "image/png": {
              "width": 378,
              "height": 270
            }
          }
        }
      ]
    },
    {
      "metadata": {
        "id": "o__UXblgJTYT",
        "colab_type": "text"
      },
      "cell_type": "markdown",
      "source": [
        "# Tf-idf Vectorizer"
      ]
    },
    {
      "metadata": {
        "id": "TjikdGnQJN04",
        "colab_type": "code",
        "colab": {
          "base_uri": "https://localhost:8080/",
          "height": 34
        },
        "outputId": "63382c28-dbda-4afd-e866-cc5761bcefae"
      },
      "cell_type": "code",
      "source": [
        "from sklearn.feature_extraction.text import TfidfVectorizer\n",
        "\n",
        "tfidf = TfidfVectorizer(sublinear_tf=True, min_df=5, norm='l2', encoding='latin-1', ngram_range=(1, 2), stop_words='english')\n",
        "\n",
        "features = tfidf.fit_transform(df['descr_clm']).toarray()\n",
        "labels = df['category_id']\n",
        "features.shape"
      ],
      "execution_count": 23,
      "outputs": [
        {
          "output_type": "execute_result",
          "data": {
            "text/plain": [
              "(3000, 110325)"
            ]
          },
          "metadata": {
            "tags": []
          },
          "execution_count": 23
        }
      ]
    },
    {
      "metadata": {
        "id": "-uCj_tMaJiIz",
        "colab_type": "text"
      },
      "cell_type": "markdown",
      "source": [
        "**3000 applications, represented by 110325 features, representing the tf-idf score for different unigrams and bigrams.**"
      ]
    },
    {
      "metadata": {
        "id": "hnb2et8SKA8a",
        "colab_type": "text"
      },
      "cell_type": "markdown",
      "source": [
        "# Top 10 Uni-Grams and Bi-Grams for each Patent class"
      ]
    },
    {
      "metadata": {
        "id": "xoxJm48wJc5S",
        "colab_type": "code",
        "colab": {}
      },
      "cell_type": "code",
      "source": [
        "from sklearn.feature_selection import chi2"
      ],
      "execution_count": 0,
      "outputs": []
    },
    {
      "metadata": {
        "id": "GwFF_gUtJ-z0",
        "colab_type": "code",
        "colab": {
          "base_uri": "https://localhost:8080/",
          "height": 1190
        },
        "outputId": "a7d6525f-de58-4005-d8a7-7ca2f1d5d448"
      },
      "cell_type": "code",
      "source": [
        "N = 10\n",
        "for code, category_id in sorted(category_to_id.items()):\n",
        "  features_chi2 = chi2(features, labels == category_id)\n",
        "  indices = np.argsort(features_chi2[0])\n",
        "  feature_names = np.array(tfidf.get_feature_names())[indices]\n",
        "  unigrams = [v for v in feature_names if len(v.split(' ')) == 1]\n",
        "  bigrams = [v for v in feature_names if len(v.split(' ')) == 2]\n",
        "  print(\"# '{}':\".format(code))\n",
        "  print(\"  . Most correlated unigrams:\\n       . {}\".format('\\n       . '.join(unigrams[-N:])))\n",
        "  print(\"  . Most correlated bigrams:\\n       . {}\".format('\\n       . '.join(bigrams[-N:])))"
      ],
      "execution_count": 26,
      "outputs": [
        {
          "output_type": "stream",
          "text": [
            "# '700':\n",
            "  . Most correlated unigrams:\n",
            "       . temperature\n",
            "       . direction\n",
            "       . motor\n",
            "       . position\n",
            "       . sensor\n",
            "       . controlling\n",
            "       . power\n",
            "       . robot\n",
            "       . control\n",
            "       . controller\n",
            "  . Most correlated bigrams:\n",
            "       . electric power\n",
            "       . control signal\n",
            "       . robot according\n",
            "       . power supply\n",
            "       . control method\n",
            "       . method controlling\n",
            "       . controller configured\n",
            "       . control unit\n",
            "       . perspective view\n",
            "       . control device\n",
            "# '705':\n",
            "  . Most correlated unigrams:\n",
            "       . card\n",
            "       . price\n",
            "       . sale\n",
            "       . financial\n",
            "       . transactions\n",
            "       . credit\n",
            "       . purchase\n",
            "       . merchant\n",
            "       . transaction\n",
            "       . payment\n",
            "  . Most correlated bigrams:\n",
            "       . debit card\n",
            "       . financial transaction\n",
            "       . account number\n",
            "       . payment transaction\n",
            "       . mobile device\n",
            "       . account associated\n",
            "       . goods services\n",
            "       . service provider\n",
            "       . credit card\n",
            "       . point sale\n",
            "# '706':\n",
            "  . Most correlated unigrams:\n",
            "       . model\n",
            "       . classifier\n",
            "       . neurons\n",
            "       . neuron\n",
            "       . artificial\n",
            "       . prediction\n",
            "       . probability\n",
            "       . neural\n",
            "       . training\n",
            "       . learning\n",
            "  . Most correlated bigrams:\n",
            "       . learning algorithm\n",
            "       . model based\n",
            "       . training set\n",
            "       . artificial neural\n",
            "       . knowledge base\n",
            "       . artificial intelligence\n",
            "       . neural networks\n",
            "       . training data\n",
            "       . machine learning\n",
            "       . neural network\n"
          ],
          "name": "stdout"
        }
      ]
    },
    {
      "metadata": {
        "id": "SiCi9DuFK9Rg",
        "colab_type": "text"
      },
      "cell_type": "markdown",
      "source": [
        "# Model training and evaluation"
      ]
    },
    {
      "metadata": {
        "id": "wzY8wzPVK3-w",
        "colab_type": "code",
        "colab": {}
      },
      "cell_type": "code",
      "source": [
        "from sklearn.linear_model import LogisticRegression\n",
        "from sklearn.ensemble import RandomForestClassifier\n",
        "from sklearn.naive_bayes import MultinomialNB\n",
        "from sklearn.model_selection import cross_val_score"
      ],
      "execution_count": 0,
      "outputs": []
    },
    {
      "metadata": {
        "id": "iMSeFmdLLCov",
        "colab_type": "code",
        "colab": {
          "base_uri": "https://localhost:8080/",
          "height": 377
        },
        "outputId": "c8e476e3-9580-4241-a2b9-a2463564194f"
      },
      "cell_type": "code",
      "source": [
        "models = [\n",
        "    RandomForestClassifier(n_estimators=400, max_depth=50, random_state=0),\n",
        "    MultinomialNB(alpha=0.01),\n",
        "    LogisticRegression(random_state=0, C=0.9),\n",
        "]\n",
        "CV = 5\n",
        "cv_df = pd.DataFrame(index=range(CV * len(models)))\n",
        "entries = []\n",
        "for model in models:\n",
        "  model_name = model.__class__.__name__\n",
        "  accuracies = cross_val_score(model, features, labels, scoring='accuracy', cv=CV)\n",
        "  for fold_idx, accuracy in enumerate(accuracies):\n",
        "    entries.append((model_name, fold_idx, accuracy))\n",
        "cv_df = pd.DataFrame(entries, columns=['model_name', 'fold_idx', 'accuracy'])"
      ],
      "execution_count": 70,
      "outputs": [
        {
          "output_type": "stream",
          "text": [
            "/usr/local/lib/python3.6/dist-packages/sklearn/linear_model/logistic.py:433: FutureWarning: Default solver will be changed to 'lbfgs' in 0.22. Specify a solver to silence this warning.\n",
            "  FutureWarning)\n",
            "/usr/local/lib/python3.6/dist-packages/sklearn/linear_model/logistic.py:460: FutureWarning: Default multi_class will be changed to 'auto' in 0.22. Specify the multi_class option to silence this warning.\n",
            "  \"this warning.\", FutureWarning)\n",
            "/usr/local/lib/python3.6/dist-packages/sklearn/linear_model/logistic.py:433: FutureWarning: Default solver will be changed to 'lbfgs' in 0.22. Specify a solver to silence this warning.\n",
            "  FutureWarning)\n",
            "/usr/local/lib/python3.6/dist-packages/sklearn/linear_model/logistic.py:460: FutureWarning: Default multi_class will be changed to 'auto' in 0.22. Specify the multi_class option to silence this warning.\n",
            "  \"this warning.\", FutureWarning)\n",
            "/usr/local/lib/python3.6/dist-packages/sklearn/linear_model/logistic.py:433: FutureWarning: Default solver will be changed to 'lbfgs' in 0.22. Specify a solver to silence this warning.\n",
            "  FutureWarning)\n",
            "/usr/local/lib/python3.6/dist-packages/sklearn/linear_model/logistic.py:460: FutureWarning: Default multi_class will be changed to 'auto' in 0.22. Specify the multi_class option to silence this warning.\n",
            "  \"this warning.\", FutureWarning)\n",
            "/usr/local/lib/python3.6/dist-packages/sklearn/linear_model/logistic.py:433: FutureWarning: Default solver will be changed to 'lbfgs' in 0.22. Specify a solver to silence this warning.\n",
            "  FutureWarning)\n",
            "/usr/local/lib/python3.6/dist-packages/sklearn/linear_model/logistic.py:460: FutureWarning: Default multi_class will be changed to 'auto' in 0.22. Specify the multi_class option to silence this warning.\n",
            "  \"this warning.\", FutureWarning)\n",
            "/usr/local/lib/python3.6/dist-packages/sklearn/linear_model/logistic.py:433: FutureWarning: Default solver will be changed to 'lbfgs' in 0.22. Specify a solver to silence this warning.\n",
            "  FutureWarning)\n",
            "/usr/local/lib/python3.6/dist-packages/sklearn/linear_model/logistic.py:460: FutureWarning: Default multi_class will be changed to 'auto' in 0.22. Specify the multi_class option to silence this warning.\n",
            "  \"this warning.\", FutureWarning)\n"
          ],
          "name": "stderr"
        }
      ]
    },
    {
      "metadata": {
        "id": "Zpd2tHqDLKD_",
        "colab_type": "code",
        "colab": {}
      },
      "cell_type": "code",
      "source": [
        "import seaborn as sns"
      ],
      "execution_count": 0,
      "outputs": []
    },
    {
      "metadata": {
        "id": "_2E8rXiDLPA-",
        "colab_type": "code",
        "colab": {
          "base_uri": "https://localhost:8080/",
          "height": 333
        },
        "outputId": "1d82f2fe-f7ea-44e0-856b-903ff68a61d6"
      },
      "cell_type": "code",
      "source": [
        "sns.boxplot(x='model_name', y='accuracy', data=cv_df)\n",
        "sns.stripplot(x='model_name', y='accuracy', data=cv_df, \n",
        "              size=8, jitter=True, edgecolor=\"gray\", linewidth=2);"
      ],
      "execution_count": 71,
      "outputs": [
        {
          "output_type": "stream",
          "text": [
            "/usr/local/lib/python3.6/dist-packages/seaborn/categorical.py:454: FutureWarning: remove_na is deprecated and is a private function. Do not use.\n",
            "  box_data = remove_na(group_data)\n"
          ],
          "name": "stderr"
        },
        {
          "output_type": "display_data",
          "data": {
            "image/png": "[encoded data removed]",
            "text/plain": [
              "<Figure size 432x288 with 1 Axes>"
            ]
          },
          "metadata": {
            "tags": [],
            "image/png": {
              "width": 390,
              "height": 262
            }
          }
        }
      ]
    },
    {
      "metadata": {
        "id": "MVxml5fBLShS",
        "colab_type": "code",
        "colab": {
          "base_uri": "https://localhost:8080/",
          "height": 102
        },
        "outputId": "9542c5f6-7167-4dd5-ce44-cab57c04ad4f"
      },
      "cell_type": "code",
      "source": [
        "cv_df.groupby('model_name').accuracy.mean()"
      ],
      "execution_count": 72,
      "outputs": [
        {
          "output_type": "execute_result",
          "data": {
            "text/plain": [
              "model_name\n",
              "LogisticRegression        0.856000\n",
              "MultinomialNB             0.847000\n",
              "RandomForestClassifier    0.850667\n",
              "Name: accuracy, dtype: float64"
            ]
          },
          "metadata": {
            "tags": []
          },
          "execution_count": 72
        }
      ]
    },
    {
      "metadata": {
        "id": "jCpJmGQhLXs-",
        "colab_type": "text"
      },
      "cell_type": "markdown",
      "source": [
        "#  LogisticRegression Model Interpretation "
      ]
    },
    {
      "metadata": {
        "id": "o7iDRuz8LWwE",
        "colab_type": "code",
        "colab": {}
      },
      "cell_type": "code",
      "source": [
        "from sklearn.model_selection import train_test_split"
      ],
      "execution_count": 0,
      "outputs": []
    },
    {
      "metadata": {
        "id": "fMATkCVQLdCq",
        "colab_type": "code",
        "colab": {
          "base_uri": "https://localhost:8080/",
          "height": 105
        },
        "outputId": "4c9917af-9db5-4a8b-c1c0-2e9feb5fccf3"
      },
      "cell_type": "code",
      "source": [
        "model = LogisticRegression(random_state=0, C=0.9)\n",
        "\n",
        "X_train, X_test, y_train, y_test, indices_train, indices_test = train_test_split(features, labels, df.index, test_size=0.33, random_state=0, stratify=df['code'])\n",
        "\n",
        "model.fit(X_train, y_train)\n",
        "y_pred_proba = model.predict_proba(X_test)\n",
        "y_pred = model.predict(X_test)"
      ],
      "execution_count": 81,
      "outputs": [
        {
          "output_type": "stream",
          "text": [
            "/usr/local/lib/python3.6/dist-packages/sklearn/linear_model/logistic.py:433: FutureWarning: Default solver will be changed to 'lbfgs' in 0.22. Specify a solver to silence this warning.\n",
            "  FutureWarning)\n",
            "/usr/local/lib/python3.6/dist-packages/sklearn/linear_model/logistic.py:460: FutureWarning: Default multi_class will be changed to 'auto' in 0.22. Specify the multi_class option to silence this warning.\n",
            "  \"this warning.\", FutureWarning)\n"
          ],
          "name": "stderr"
        }
      ]
    },
    {
      "metadata": {
        "id": "KEY-nE8aLtYi",
        "colab_type": "code",
        "colab": {
          "base_uri": "https://localhost:8080/",
          "height": 85
        },
        "outputId": "d8407e64-1e58-40f8-8bea-9c7c0f5a2c2f"
      },
      "cell_type": "code",
      "source": [
        "y_train.value_counts()"
      ],
      "execution_count": 82,
      "outputs": [
        {
          "output_type": "execute_result",
          "data": {
            "text/plain": [
              "2    670\n",
              "1    670\n",
              "0    670\n",
              "Name: category_id, dtype: int64"
            ]
          },
          "metadata": {
            "tags": []
          },
          "execution_count": 82
        }
      ]
    },
    {
      "metadata": {
        "id": "Z_xwuIj-kh-v",
        "colab_type": "code",
        "colab": {
          "base_uri": "https://localhost:8080/",
          "height": 85
        },
        "outputId": "951e83bd-0501-4a38-9559-7f1214703697"
      },
      "cell_type": "code",
      "source": [
        "y_test.value_counts()"
      ],
      "execution_count": 83,
      "outputs": [
        {
          "output_type": "execute_result",
          "data": {
            "text/plain": [
              "2    330\n",
              "1    330\n",
              "0    330\n",
              "Name: category_id, dtype: int64"
            ]
          },
          "metadata": {
            "tags": []
          },
          "execution_count": 83
        }
      ]
    },
    {
      "metadata": {
        "id": "FivCi71Xkmkx",
        "colab_type": "code",
        "colab": {}
      },
      "cell_type": "code",
      "source": [
        "\n",
        "from sklearn.metrics import confusion_matrix"
      ],
      "execution_count": 0,
      "outputs": []
    },
    {
      "metadata": {
        "id": "GPUXs0XPkpR7",
        "colab_type": "code",
        "colab": {
          "base_uri": "https://localhost:8080/",
          "height": 282
        },
        "outputId": "318e66ef-3db5-4dd0-f692-a48326434d1a"
      },
      "cell_type": "code",
      "source": [
        "conf_mat = confusion_matrix(y_test, y_pred)\n",
        "sns.heatmap(conf_mat, annot=True, fmt='d',\n",
        "            xticklabels=category_id_df.code.values, yticklabels=category_id_df.code.values)\n",
        "plt.ylabel('Actual')\n",
        "plt.xlabel('Predicted');"
      ],
      "execution_count": 84,
      "outputs": [
        {
          "output_type": "display_data",
          "data": {
            "image/png": "[encoded data removed]",
            "text/plain": [
              "<Figure size 432x288 with 2 Axes>"
            ]
          },
          "metadata": {
            "tags": [],
            "image/png": {
              "width": 364,
              "height": 265
            }
          }
        }
      ]
    },
    {
      "metadata": {
        "id": "4fqoNRKAk3mr",
        "colab_type": "text"
      },
      "cell_type": "markdown",
      "source": [
        "## Analyze incorrectly labeled data"
      ]
    },
    {
      "metadata": {
        "id": "dYyNiHeYkr_J",
        "colab_type": "code",
        "colab": {
          "base_uri": "https://localhost:8080/",
          "height": 4071
        },
        "outputId": "5524d5f5-cc33-4a33-b682-87ec02622e45"
      },
      "cell_type": "code",
      "source": [
        "from IPython.display import display\n",
        "\n",
        "for predicted in category_id_df.category_id:\n",
        "  for actual in category_id_df.category_id:\n",
        "    if predicted != actual and conf_mat[actual, predicted] >= 2:\n",
        "      print(\"'{}' predicted as '{}' : {} examples.\".format(id_to_category[actual], id_to_category[predicted], conf_mat[actual, predicted]))\n",
        "      display(df.loc[indices_test[(y_test == actual) & (y_pred == predicted)]][['descr_clm']])\n",
        "      print('')"
      ],
      "execution_count": 85,
      "outputs": [
        {
          "output_type": "stream",
          "text": [
            "'705' predicted as '700' : 14 examples.\n"
          ],
          "name": "stdout"
        },
        {
          "output_type": "display_data",
          "data": {
            "text/html": [
              "<div>\n",
              "<style scoped>\n",
              "    .dataframe tbody tr th:only-of-type {\n",
              "        vertical-align: middle;\n",
              "    }\n",
              "\n",
              "    .dataframe tbody tr th {\n",
              "        vertical-align: top;\n",
              "    }\n",
              "\n",
              "    .dataframe thead th {\n",
              "        text-align: right;\n",
              "    }\n",
              "</style>\n",
              "<table border=\"1\" class=\"dataframe\">\n",
              "  <thead>\n",
              "    <tr style=\"text-align: right;\">\n",
              "      <th></th>\n",
              "      <th>descr_clm</th>\n",
              "    </tr>\n",
              "  </thead>\n",
              "  <tbody>\n",
              "    <tr>\n",
              "      <th>1902</th>\n",
              "      <td>CROSS-REFERENCE TO RELATED APPLICATIONS \\n    ...</td>\n",
              "    </tr>\n",
              "    <tr>\n",
              "      <th>10656</th>\n",
              "      <td>TECHNICAL FIELD \\n     The present invention r...</td>\n",
              "    </tr>\n",
              "    <tr>\n",
              "      <th>558</th>\n",
              "      <td>CROSS-REFERENCES TO RELATED APPLICATIONS \\n   ...</td>\n",
              "    </tr>\n",
              "    <tr>\n",
              "      <th>532</th>\n",
              "      <td>CROSS-REFERENCE TO RELATED PATENT APPLICATION ...</td>\n",
              "    </tr>\n",
              "    <tr>\n",
              "      <th>1896</th>\n",
              "      <td>CROSS REFERENCE TO RELATED APPLICATIONS \\n    ...</td>\n",
              "    </tr>\n",
              "    <tr>\n",
              "      <th>2345</th>\n",
              "      <td>FIELD OF THE INVENTION \\n     Embodiments gene...</td>\n",
              "    </tr>\n",
              "    <tr>\n",
              "      <th>2378</th>\n",
              "      <td>BACKGROUND OF THE INVENTION \\n     1. Field of...</td>\n",
              "    </tr>\n",
              "    <tr>\n",
              "      <th>7992</th>\n",
              "      <td>CROSS-REFERENCE TO RELATED APPLICATIONS \\n    ...</td>\n",
              "    </tr>\n",
              "    <tr>\n",
              "      <th>4298</th>\n",
              "      <td>CROSS-REFERENCE TO RELATED APPLICATIONS \\n    ...</td>\n",
              "    </tr>\n",
              "    <tr>\n",
              "      <th>1872</th>\n",
              "      <td>This application claims priority to U.S. Provi...</td>\n",
              "    </tr>\n",
              "    <tr>\n",
              "      <th>8021</th>\n",
              "      <td>RELATED PATENT APPLICATIONS \\n     This applic...</td>\n",
              "    </tr>\n",
              "    <tr>\n",
              "      <th>4229</th>\n",
              "      <td>RELATED APPLICATIONS \\n     The present invent...</td>\n",
              "    </tr>\n",
              "    <tr>\n",
              "      <th>8083</th>\n",
              "      <td>BACKGROUND \\n     Entities such as data center...</td>\n",
              "    </tr>\n",
              "    <tr>\n",
              "      <th>8106</th>\n",
              "      <td>CROSS-REFERENCE TO RELATED APPLICATIONS \\n    ...</td>\n",
              "    </tr>\n",
              "  </tbody>\n",
              "</table>\n",
              "</div>"
            ],
            "text/plain": [
              "                                               descr_clm\n",
              "1902   CROSS-REFERENCE TO RELATED APPLICATIONS \\n    ...\n",
              "10656  TECHNICAL FIELD \\n     The present invention r...\n",
              "558    CROSS-REFERENCES TO RELATED APPLICATIONS \\n   ...\n",
              "532    CROSS-REFERENCE TO RELATED PATENT APPLICATION ...\n",
              "1896   CROSS REFERENCE TO RELATED APPLICATIONS \\n    ...\n",
              "2345   FIELD OF THE INVENTION \\n     Embodiments gene...\n",
              "2378   BACKGROUND OF THE INVENTION \\n     1. Field of...\n",
              "7992   CROSS-REFERENCE TO RELATED APPLICATIONS \\n    ...\n",
              "4298   CROSS-REFERENCE TO RELATED APPLICATIONS \\n    ...\n",
              "1872   This application claims priority to U.S. Provi...\n",
              "8021   RELATED PATENT APPLICATIONS \\n     This applic...\n",
              "4229   RELATED APPLICATIONS \\n     The present invent...\n",
              "8083   BACKGROUND \\n     Entities such as data center...\n",
              "8106   CROSS-REFERENCE TO RELATED APPLICATIONS \\n    ..."
            ]
          },
          "metadata": {
            "tags": []
          }
        },
        {
          "output_type": "stream",
          "text": [
            "\n",
            "'706' predicted as '700' : 12 examples.\n"
          ],
          "name": "stdout"
        },
        {
          "output_type": "display_data",
          "data": {
            "text/html": [
              "<div>\n",
              "<style scoped>\n",
              "    .dataframe tbody tr th:only-of-type {\n",
              "        vertical-align: middle;\n",
              "    }\n",
              "\n",
              "    .dataframe tbody tr th {\n",
              "        vertical-align: top;\n",
              "    }\n",
              "\n",
              "    .dataframe thead th {\n",
              "        text-align: right;\n",
              "    }\n",
              "</style>\n",
              "<table border=\"1\" class=\"dataframe\">\n",
              "  <thead>\n",
              "    <tr style=\"text-align: right;\">\n",
              "      <th></th>\n",
              "      <th>descr_clm</th>\n",
              "    </tr>\n",
              "  </thead>\n",
              "  <tbody>\n",
              "    <tr>\n",
              "      <th>4704</th>\n",
              "      <td>CROSS-REFERENCE TO RELATED APPLICATIONS \\n    ...</td>\n",
              "    </tr>\n",
              "    <tr>\n",
              "      <th>2572</th>\n",
              "      <td>CROSS-REFERENCE TO RELATED APPLICATIONS \\n    ...</td>\n",
              "    </tr>\n",
              "    <tr>\n",
              "      <th>3105</th>\n",
              "      <td>BACKGROUND \\n     Earth formations may be used...</td>\n",
              "    </tr>\n",
              "    <tr>\n",
              "      <th>4630</th>\n",
              "      <td>CROSS-REFERENCES TO RELATED APPLICATIONS \\n   ...</td>\n",
              "    </tr>\n",
              "    <tr>\n",
              "      <th>3356</th>\n",
              "      <td>RELATED APPLICATION INFORMATION \\n     This ap...</td>\n",
              "    </tr>\n",
              "    <tr>\n",
              "      <th>3360</th>\n",
              "      <td>BACKGROUND OF INVENTION \\n     1. Field of the...</td>\n",
              "    </tr>\n",
              "    <tr>\n",
              "      <th>4373</th>\n",
              "      <td>RELATED APPLICATION INFORMATION \\n     The pre...</td>\n",
              "    </tr>\n",
              "    <tr>\n",
              "      <th>3345</th>\n",
              "      <td>CLAIM FOR PRIORITY \\n     This application cla...</td>\n",
              "    </tr>\n",
              "    <tr>\n",
              "      <th>4481</th>\n",
              "      <td>RELATED APPLICATIONS \\n     This application c...</td>\n",
              "    </tr>\n",
              "    <tr>\n",
              "      <th>4607</th>\n",
              "      <td>CROSS REFERENCE TO RELATED APPLICATIONS \\n    ...</td>\n",
              "    </tr>\n",
              "    <tr>\n",
              "      <th>3303</th>\n",
              "      <td>FIELD AND BACKGROUND OF THE INVENTION \\n     T...</td>\n",
              "    </tr>\n",
              "    <tr>\n",
              "      <th>3351</th>\n",
              "      <td>TECHNICAL FIELD \\n     The present invention r...</td>\n",
              "    </tr>\n",
              "  </tbody>\n",
              "</table>\n",
              "</div>"
            ],
            "text/plain": [
              "                                              descr_clm\n",
              "4704  CROSS-REFERENCE TO RELATED APPLICATIONS \\n    ...\n",
              "2572  CROSS-REFERENCE TO RELATED APPLICATIONS \\n    ...\n",
              "3105  BACKGROUND \\n     Earth formations may be used...\n",
              "4630  CROSS-REFERENCES TO RELATED APPLICATIONS \\n   ...\n",
              "3356  RELATED APPLICATION INFORMATION \\n     This ap...\n",
              "3360  BACKGROUND OF INVENTION \\n     1. Field of the...\n",
              "4373  RELATED APPLICATION INFORMATION \\n     The pre...\n",
              "3345  CLAIM FOR PRIORITY \\n     This application cla...\n",
              "4481  RELATED APPLICATIONS \\n     This application c...\n",
              "4607  CROSS REFERENCE TO RELATED APPLICATIONS \\n    ...\n",
              "3303  FIELD AND BACKGROUND OF THE INVENTION \\n     T...\n",
              "3351  TECHNICAL FIELD \\n     The present invention r..."
            ]
          },
          "metadata": {
            "tags": []
          }
        },
        {
          "output_type": "stream",
          "text": [
            "\n",
            "'700' predicted as '705' : 22 examples.\n"
          ],
          "name": "stdout"
        },
        {
          "output_type": "display_data",
          "data": {
            "text/html": [
              "<div>\n",
              "<style scoped>\n",
              "    .dataframe tbody tr th:only-of-type {\n",
              "        vertical-align: middle;\n",
              "    }\n",
              "\n",
              "    .dataframe tbody tr th {\n",
              "        vertical-align: top;\n",
              "    }\n",
              "\n",
              "    .dataframe thead th {\n",
              "        text-align: right;\n",
              "    }\n",
              "</style>\n",
              "<table border=\"1\" class=\"dataframe\">\n",
              "  <thead>\n",
              "    <tr style=\"text-align: right;\">\n",
              "      <th></th>\n",
              "      <th>descr_clm</th>\n",
              "    </tr>\n",
              "  </thead>\n",
              "  <tbody>\n",
              "    <tr>\n",
              "      <th>3972</th>\n",
              "      <td>This application claims the benefit of U.S. pr...</td>\n",
              "    </tr>\n",
              "    <tr>\n",
              "      <th>743</th>\n",
              "      <td>CROSS REFERENCE TO RELATED APPLICATIONS \\n    ...</td>\n",
              "    </tr>\n",
              "    <tr>\n",
              "      <th>3707</th>\n",
              "      <td>CROSS REFERENCE TO RELATED APPLICATIONS \\n    ...</td>\n",
              "    </tr>\n",
              "    <tr>\n",
              "      <th>3850</th>\n",
              "      <td>This application claims the benefit of U.S. Pr...</td>\n",
              "    </tr>\n",
              "    <tr>\n",
              "      <th>757</th>\n",
              "      <td>CROSS-REFERENCE TO RELATED APPLICATIONS \\n    ...</td>\n",
              "    </tr>\n",
              "    <tr>\n",
              "      <th>3706</th>\n",
              "      <td>BACKGROUND \\n     Shipments of items are often...</td>\n",
              "    </tr>\n",
              "    <tr>\n",
              "      <th>3694</th>\n",
              "      <td>CROSS REFERENCE TO RELATED APPLICATIONS \\n    ...</td>\n",
              "    </tr>\n",
              "    <tr>\n",
              "      <th>6112</th>\n",
              "      <td>CROSS-REFERENCE TO RELATED APPLICATIONS \\n    ...</td>\n",
              "    </tr>\n",
              "    <tr>\n",
              "      <th>3748</th>\n",
              "      <td>CLAIM OF BENEFIT TO PRIOR APPLICATION \\n     T...</td>\n",
              "    </tr>\n",
              "    <tr>\n",
              "      <th>3761</th>\n",
              "      <td>CROSS REFERENCE TO RELATED APPLICATIONS \\n    ...</td>\n",
              "    </tr>\n",
              "    <tr>\n",
              "      <th>3700</th>\n",
              "      <td>BACKGROUND \\n     Retailers, wholesalers, and ...</td>\n",
              "    </tr>\n",
              "    <tr>\n",
              "      <th>3971</th>\n",
              "      <td>TECHNICAL FIELD \\n     This disclosure relates...</td>\n",
              "    </tr>\n",
              "    <tr>\n",
              "      <th>760</th>\n",
              "      <td>CROSS-REFERENCE TO RELATED APPLICATION \\n     ...</td>\n",
              "    </tr>\n",
              "    <tr>\n",
              "      <th>5149</th>\n",
              "      <td>PRIORITY CLAIM \\n     This application is a co...</td>\n",
              "    </tr>\n",
              "    <tr>\n",
              "      <th>788</th>\n",
              "      <td>BACKGROUND \\n     Three-dimensional (3D) print...</td>\n",
              "    </tr>\n",
              "    <tr>\n",
              "      <th>5186</th>\n",
              "      <td>CROSS-REFERENCE TO RELATED APPLICATIONS \\n    ...</td>\n",
              "    </tr>\n",
              "    <tr>\n",
              "      <th>5129</th>\n",
              "      <td>BACKGROUND \\n     Shipments of items are often...</td>\n",
              "    </tr>\n",
              "    <tr>\n",
              "      <th>2074</th>\n",
              "      <td>This utility patent application is a continuat...</td>\n",
              "    </tr>\n",
              "    <tr>\n",
              "      <th>2084</th>\n",
              "      <td>PRIORITY APPLICATION \\n     This application i...</td>\n",
              "    </tr>\n",
              "    <tr>\n",
              "      <th>5191</th>\n",
              "      <td>The current application claims a priority to t...</td>\n",
              "    </tr>\n",
              "    <tr>\n",
              "      <th>3746</th>\n",
              "      <td>CROSS-REFERENCE TO RELATED APPLICATIONS \\n    ...</td>\n",
              "    </tr>\n",
              "    <tr>\n",
              "      <th>3710</th>\n",
              "      <td>CROSS REFERENCE TO RELATED APPLICATION \\n     ...</td>\n",
              "    </tr>\n",
              "  </tbody>\n",
              "</table>\n",
              "</div>"
            ],
            "text/plain": [
              "                                              descr_clm\n",
              "3972  This application claims the benefit of U.S. pr...\n",
              "743   CROSS REFERENCE TO RELATED APPLICATIONS \\n    ...\n",
              "3707  CROSS REFERENCE TO RELATED APPLICATIONS \\n    ...\n",
              "3850  This application claims the benefit of U.S. Pr...\n",
              "757   CROSS-REFERENCE TO RELATED APPLICATIONS \\n    ...\n",
              "3706  BACKGROUND \\n     Shipments of items are often...\n",
              "3694  CROSS REFERENCE TO RELATED APPLICATIONS \\n    ...\n",
              "6112  CROSS-REFERENCE TO RELATED APPLICATIONS \\n    ...\n",
              "3748  CLAIM OF BENEFIT TO PRIOR APPLICATION \\n     T...\n",
              "3761  CROSS REFERENCE TO RELATED APPLICATIONS \\n    ...\n",
              "3700  BACKGROUND \\n     Retailers, wholesalers, and ...\n",
              "3971  TECHNICAL FIELD \\n     This disclosure relates...\n",
              "760   CROSS-REFERENCE TO RELATED APPLICATION \\n     ...\n",
              "5149  PRIORITY CLAIM \\n     This application is a co...\n",
              "788   BACKGROUND \\n     Three-dimensional (3D) print...\n",
              "5186  CROSS-REFERENCE TO RELATED APPLICATIONS \\n    ...\n",
              "5129  BACKGROUND \\n     Shipments of items are often...\n",
              "2074  This utility patent application is a continuat...\n",
              "2084  PRIORITY APPLICATION \\n     This application i...\n",
              "5191  The current application claims a priority to t...\n",
              "3746  CROSS-REFERENCE TO RELATED APPLICATIONS \\n    ...\n",
              "3710  CROSS REFERENCE TO RELATED APPLICATION \\n     ..."
            ]
          },
          "metadata": {
            "tags": []
          }
        },
        {
          "output_type": "stream",
          "text": [
            "\n",
            "'706' predicted as '705' : 16 examples.\n"
          ],
          "name": "stdout"
        },
        {
          "output_type": "display_data",
          "data": {
            "text/html": [
              "<div>\n",
              "<style scoped>\n",
              "    .dataframe tbody tr th:only-of-type {\n",
              "        vertical-align: middle;\n",
              "    }\n",
              "\n",
              "    .dataframe tbody tr th {\n",
              "        vertical-align: top;\n",
              "    }\n",
              "\n",
              "    .dataframe thead th {\n",
              "        text-align: right;\n",
              "    }\n",
              "</style>\n",
              "<table border=\"1\" class=\"dataframe\">\n",
              "  <thead>\n",
              "    <tr style=\"text-align: right;\">\n",
              "      <th></th>\n",
              "      <th>descr_clm</th>\n",
              "    </tr>\n",
              "  </thead>\n",
              "  <tbody>\n",
              "    <tr>\n",
              "      <th>3181</th>\n",
              "      <td>RELATED APPLICATIONS \\n     This application i...</td>\n",
              "    </tr>\n",
              "    <tr>\n",
              "      <th>3404</th>\n",
              "      <td>CLAIM OF PRIORITY \\n     This application clai...</td>\n",
              "    </tr>\n",
              "    <tr>\n",
              "      <th>3354</th>\n",
              "      <td>CROSS-REFERENCE TO RELATED APPLICATIONS \\n    ...</td>\n",
              "    </tr>\n",
              "    <tr>\n",
              "      <th>3176</th>\n",
              "      <td>BACKGROUND \\n     1. Field \\n     The system a...</td>\n",
              "    </tr>\n",
              "    <tr>\n",
              "      <th>4693</th>\n",
              "      <td>CROSS-REFERENCE TO RELATED APPLICATIONS \\n    ...</td>\n",
              "    </tr>\n",
              "    <tr>\n",
              "      <th>3099</th>\n",
              "      <td>CROSS-REFERENCE TO RELATED APPLICATIONS \\n    ...</td>\n",
              "    </tr>\n",
              "    <tr>\n",
              "      <th>4430</th>\n",
              "      <td>FIELD OF THE DISCLOSURE \\n     The present dis...</td>\n",
              "    </tr>\n",
              "    <tr>\n",
              "      <th>3298</th>\n",
              "      <td>CROSS-REFERENCE TO RELATED APPLICATIONS \\n    ...</td>\n",
              "    </tr>\n",
              "    <tr>\n",
              "      <th>3304</th>\n",
              "      <td>CROSS-REFERENCE TO RELATED APPLICATIONS \\n    ...</td>\n",
              "    </tr>\n",
              "    <tr>\n",
              "      <th>3287</th>\n",
              "      <td>CONTINUATION-IN-PART \\n     This application i...</td>\n",
              "    </tr>\n",
              "    <tr>\n",
              "      <th>3174</th>\n",
              "      <td>CROSS-REFERENCE TO RELATED APPLICATIONS \\n    ...</td>\n",
              "    </tr>\n",
              "    <tr>\n",
              "      <th>4656</th>\n",
              "      <td>TECHNICAL FIELD \\n     The present disclosure ...</td>\n",
              "    </tr>\n",
              "    <tr>\n",
              "      <th>2554</th>\n",
              "      <td>RELATED APPLICATIONS \\n     This application i...</td>\n",
              "    </tr>\n",
              "    <tr>\n",
              "      <th>594</th>\n",
              "      <td>CROSS REFERENCE TO OTHER APPLICATIONS \\n     T...</td>\n",
              "    </tr>\n",
              "    <tr>\n",
              "      <th>4396</th>\n",
              "      <td>CROSS REFERENCE TO RELATED APPLICATION \\n     ...</td>\n",
              "    </tr>\n",
              "    <tr>\n",
              "      <th>4491</th>\n",
              "      <td>CROSS-REFERENCE TO RELATED APPLICATIONS \\n    ...</td>\n",
              "    </tr>\n",
              "  </tbody>\n",
              "</table>\n",
              "</div>"
            ],
            "text/plain": [
              "                                              descr_clm\n",
              "3181  RELATED APPLICATIONS \\n     This application i...\n",
              "3404  CLAIM OF PRIORITY \\n     This application clai...\n",
              "3354  CROSS-REFERENCE TO RELATED APPLICATIONS \\n    ...\n",
              "3176  BACKGROUND \\n     1. Field \\n     The system a...\n",
              "4693  CROSS-REFERENCE TO RELATED APPLICATIONS \\n    ...\n",
              "3099  CROSS-REFERENCE TO RELATED APPLICATIONS \\n    ...\n",
              "4430  FIELD OF THE DISCLOSURE \\n     The present dis...\n",
              "3298  CROSS-REFERENCE TO RELATED APPLICATIONS \\n    ...\n",
              "3304  CROSS-REFERENCE TO RELATED APPLICATIONS \\n    ...\n",
              "3287  CONTINUATION-IN-PART \\n     This application i...\n",
              "3174  CROSS-REFERENCE TO RELATED APPLICATIONS \\n    ...\n",
              "4656  TECHNICAL FIELD \\n     The present disclosure ...\n",
              "2554  RELATED APPLICATIONS \\n     This application i...\n",
              "594   CROSS REFERENCE TO OTHER APPLICATIONS \\n     T...\n",
              "4396  CROSS REFERENCE TO RELATED APPLICATION \\n     ...\n",
              "4491  CROSS-REFERENCE TO RELATED APPLICATIONS \\n    ..."
            ]
          },
          "metadata": {
            "tags": []
          }
        },
        {
          "output_type": "stream",
          "text": [
            "\n",
            "'700' predicted as '706' : 21 examples.\n"
          ],
          "name": "stdout"
        },
        {
          "output_type": "display_data",
          "data": {
            "text/html": [
              "<div>\n",
              "<style scoped>\n",
              "    .dataframe tbody tr th:only-of-type {\n",
              "        vertical-align: middle;\n",
              "    }\n",
              "\n",
              "    .dataframe tbody tr th {\n",
              "        vertical-align: top;\n",
              "    }\n",
              "\n",
              "    .dataframe thead th {\n",
              "        text-align: right;\n",
              "    }\n",
              "</style>\n",
              "<table border=\"1\" class=\"dataframe\">\n",
              "  <thead>\n",
              "    <tr style=\"text-align: right;\">\n",
              "      <th></th>\n",
              "      <th>descr_clm</th>\n",
              "    </tr>\n",
              "  </thead>\n",
              "  <tbody>\n",
              "    <tr>\n",
              "      <th>5227</th>\n",
              "      <td>RELATED APPLICATIONS \\n     This application c...</td>\n",
              "    </tr>\n",
              "    <tr>\n",
              "      <th>784</th>\n",
              "      <td>TECHNICAL FIELD \\n     The present disclosure ...</td>\n",
              "    </tr>\n",
              "    <tr>\n",
              "      <th>2076</th>\n",
              "      <td>CLAIM OF PRIORITY \\n     This application is a...</td>\n",
              "    </tr>\n",
              "    <tr>\n",
              "      <th>2092</th>\n",
              "      <td>CROSS REFERENCE TO RELATED APPLICATIONS \\n    ...</td>\n",
              "    </tr>\n",
              "    <tr>\n",
              "      <th>2117</th>\n",
              "      <td>CROSS-REFERENCE TO RELATED APPLICATIONS \\n    ...</td>\n",
              "    </tr>\n",
              "    <tr>\n",
              "      <th>2090</th>\n",
              "      <td>CROSS-REFERENCE TO RELATED APPLICATIONS \\n    ...</td>\n",
              "    </tr>\n",
              "    <tr>\n",
              "      <th>2107</th>\n",
              "      <td>CROSS REFERENCE TO RELATED APPLICATION \\n     ...</td>\n",
              "    </tr>\n",
              "    <tr>\n",
              "      <th>5312</th>\n",
              "      <td>FIELD OF THE INVENTION \\n     This description...</td>\n",
              "    </tr>\n",
              "    <tr>\n",
              "      <th>5318</th>\n",
              "      <td>RELATED APPLICATIONS \\n     This application c...</td>\n",
              "    </tr>\n",
              "    <tr>\n",
              "      <th>2036</th>\n",
              "      <td>FIELD \\n     Embodiments taught herein relate ...</td>\n",
              "    </tr>\n",
              "    <tr>\n",
              "      <th>3641</th>\n",
              "      <td>FIELD OF THE INVENTION \\n     The present inve...</td>\n",
              "    </tr>\n",
              "    <tr>\n",
              "      <th>5061</th>\n",
              "      <td>FIELD OF THE INVENTION \\n     The present inve...</td>\n",
              "    </tr>\n",
              "    <tr>\n",
              "      <th>5082</th>\n",
              "      <td>CROSS-REFERENCE TO RELATED APPLICATIONS \\n    ...</td>\n",
              "    </tr>\n",
              "    <tr>\n",
              "      <th>5072</th>\n",
              "      <td>CROSS-REFERENCE TO RELATED APPLICATIONS \\n    ...</td>\n",
              "    </tr>\n",
              "    <tr>\n",
              "      <th>2085</th>\n",
              "      <td>TECHNICAL FIELD \\n     This disclosure relates...</td>\n",
              "    </tr>\n",
              "    <tr>\n",
              "      <th>5300</th>\n",
              "      <td>REFERENCE TO RELATED APPLICATION \\n     This a...</td>\n",
              "    </tr>\n",
              "    <tr>\n",
              "      <th>785</th>\n",
              "      <td>CROSS-REFERENCE TO RELATED APPLICATIONS \\n    ...</td>\n",
              "    </tr>\n",
              "    <tr>\n",
              "      <th>3961</th>\n",
              "      <td>TECHNICAL FIELD \\n     The present disclosure ...</td>\n",
              "    </tr>\n",
              "    <tr>\n",
              "      <th>774</th>\n",
              "      <td>RELATED APPLICATIONS \\n     This application c...</td>\n",
              "    </tr>\n",
              "    <tr>\n",
              "      <th>5341</th>\n",
              "      <td>CROSS-REFERENCE TO RELATED APPLICATIONS \\n    ...</td>\n",
              "    </tr>\n",
              "    <tr>\n",
              "      <th>5083</th>\n",
              "      <td>TECHNICAL FIELD \\n     Embodiments of the subj...</td>\n",
              "    </tr>\n",
              "  </tbody>\n",
              "</table>\n",
              "</div>"
            ],
            "text/plain": [
              "                                              descr_clm\n",
              "5227  RELATED APPLICATIONS \\n     This application c...\n",
              "784   TECHNICAL FIELD \\n     The present disclosure ...\n",
              "2076  CLAIM OF PRIORITY \\n     This application is a...\n",
              "2092  CROSS REFERENCE TO RELATED APPLICATIONS \\n    ...\n",
              "2117  CROSS-REFERENCE TO RELATED APPLICATIONS \\n    ...\n",
              "2090  CROSS-REFERENCE TO RELATED APPLICATIONS \\n    ...\n",
              "2107  CROSS REFERENCE TO RELATED APPLICATION \\n     ...\n",
              "5312  FIELD OF THE INVENTION \\n     This description...\n",
              "5318  RELATED APPLICATIONS \\n     This application c...\n",
              "2036  FIELD \\n     Embodiments taught herein relate ...\n",
              "3641  FIELD OF THE INVENTION \\n     The present inve...\n",
              "5061  FIELD OF THE INVENTION \\n     The present inve...\n",
              "5082  CROSS-REFERENCE TO RELATED APPLICATIONS \\n    ...\n",
              "5072  CROSS-REFERENCE TO RELATED APPLICATIONS \\n    ...\n",
              "2085  TECHNICAL FIELD \\n     This disclosure relates...\n",
              "5300  REFERENCE TO RELATED APPLICATION \\n     This a...\n",
              "785   CROSS-REFERENCE TO RELATED APPLICATIONS \\n    ...\n",
              "3961  TECHNICAL FIELD \\n     The present disclosure ...\n",
              "774   RELATED APPLICATIONS \\n     This application c...\n",
              "5341  CROSS-REFERENCE TO RELATED APPLICATIONS \\n    ...\n",
              "5083  TECHNICAL FIELD \\n     Embodiments of the subj..."
            ]
          },
          "metadata": {
            "tags": []
          }
        },
        {
          "output_type": "stream",
          "text": [
            "\n",
            "'705' predicted as '706' : 33 examples.\n"
          ],
          "name": "stdout"
        },
        {
          "output_type": "display_data",
          "data": {
            "text/html": [
              "<div>\n",
              "<style scoped>\n",
              "    .dataframe tbody tr th:only-of-type {\n",
              "        vertical-align: middle;\n",
              "    }\n",
              "\n",
              "    .dataframe tbody tr th {\n",
              "        vertical-align: top;\n",
              "    }\n",
              "\n",
              "    .dataframe thead th {\n",
              "        text-align: right;\n",
              "    }\n",
              "</style>\n",
              "<table border=\"1\" class=\"dataframe\">\n",
              "  <thead>\n",
              "    <tr style=\"text-align: right;\">\n",
              "      <th></th>\n",
              "      <th>descr_clm</th>\n",
              "    </tr>\n",
              "  </thead>\n",
              "  <tbody>\n",
              "    <tr>\n",
              "      <th>7101</th>\n",
              "      <td>CROSS-REFERENCE TO RELATED APPLICATIONS \\n    ...</td>\n",
              "    </tr>\n",
              "    <tr>\n",
              "      <th>10682</th>\n",
              "      <td>BACKGROUND \\n     Advertisers increasingly see...</td>\n",
              "    </tr>\n",
              "    <tr>\n",
              "      <th>7030</th>\n",
              "      <td>This application is a continuation of U.S. Ser...</td>\n",
              "    </tr>\n",
              "    <tr>\n",
              "      <th>7113</th>\n",
              "      <td>BACKGROUND \\n     Product lifecycle management...</td>\n",
              "    </tr>\n",
              "    <tr>\n",
              "      <th>7095</th>\n",
              "      <td>FIELD OF THE INVENTION \\n     The present inve...</td>\n",
              "    </tr>\n",
              "    <tr>\n",
              "      <th>8074</th>\n",
              "      <td>RELATED APPLICATIONS \\n     This application i...</td>\n",
              "    </tr>\n",
              "    <tr>\n",
              "      <th>8069</th>\n",
              "      <td>TECHNICAL FIELD \\n     The present disclosure ...</td>\n",
              "    </tr>\n",
              "    <tr>\n",
              "      <th>10624</th>\n",
              "      <td>FIELD OF THE INVENTION \\n     The invention re...</td>\n",
              "    </tr>\n",
              "    <tr>\n",
              "      <th>7029</th>\n",
              "      <td>TECHNICAL FIELD \\n     Embodiments of the pres...</td>\n",
              "    </tr>\n",
              "    <tr>\n",
              "      <th>7039</th>\n",
              "      <td>CLAIM OF PRIORITY \\n     This application is a...</td>\n",
              "    </tr>\n",
              "    <tr>\n",
              "      <th>530</th>\n",
              "      <td>This application claims the benefit of U.S. Pr...</td>\n",
              "    </tr>\n",
              "    <tr>\n",
              "      <th>8042</th>\n",
              "      <td>REFERENCE TO RELATED APPLICATIONS \\n     This ...</td>\n",
              "    </tr>\n",
              "    <tr>\n",
              "      <th>9311</th>\n",
              "      <td>RELATED APPLICATIONS \\n     This patent applic...</td>\n",
              "    </tr>\n",
              "    <tr>\n",
              "      <th>542</th>\n",
              "      <td>CROSS-REFERENCE TO RELATED APPLICATIONS \\n    ...</td>\n",
              "    </tr>\n",
              "    <tr>\n",
              "      <th>1903</th>\n",
              "      <td>TECHNICAL FIELD OF THE INVENTION \\n     The in...</td>\n",
              "    </tr>\n",
              "    <tr>\n",
              "      <th>572</th>\n",
              "      <td>CROSS-REFERENCE TO RELATED APPLICATIONS \\n    ...</td>\n",
              "    </tr>\n",
              "    <tr>\n",
              "      <th>7034</th>\n",
              "      <td>RELATED APPLICATIONS \\n     This application c...</td>\n",
              "    </tr>\n",
              "    <tr>\n",
              "      <th>10632</th>\n",
              "      <td>TECHNICAL FIELD \\n     The present technology ...</td>\n",
              "    </tr>\n",
              "    <tr>\n",
              "      <th>10643</th>\n",
              "      <td>PRIORITY \\n     This application claims priori...</td>\n",
              "    </tr>\n",
              "    <tr>\n",
              "      <th>9356</th>\n",
              "      <td>TECHNICAL FIELD \\n     The present disclosure ...</td>\n",
              "    </tr>\n",
              "    <tr>\n",
              "      <th>9327</th>\n",
              "      <td>CROSS REFERENCE TO OTHER APPLICATIONS \\n     T...</td>\n",
              "    </tr>\n",
              "    <tr>\n",
              "      <th>8046</th>\n",
              "      <td>PRIORITY DATA \\n     This application claims p...</td>\n",
              "    </tr>\n",
              "    <tr>\n",
              "      <th>9344</th>\n",
              "      <td>CROSS-REFERENCE TO RELATED APPLICATIONS \\n    ...</td>\n",
              "    </tr>\n",
              "    <tr>\n",
              "      <th>7105</th>\n",
              "      <td>BACKGROUND \\n     This disclosure relates gene...</td>\n",
              "    </tr>\n",
              "    <tr>\n",
              "      <th>7112</th>\n",
              "      <td>BACKGROUND \\n     Online social networks allow...</td>\n",
              "    </tr>\n",
              "    <tr>\n",
              "      <th>562</th>\n",
              "      <td>BACKGROUND \\n     Unless otherwise indicated h...</td>\n",
              "    </tr>\n",
              "    <tr>\n",
              "      <th>7119</th>\n",
              "      <td>CROSS REFERENCE TO RELATED APPLICATIONS \\n    ...</td>\n",
              "    </tr>\n",
              "    <tr>\n",
              "      <th>4255</th>\n",
              "      <td>This application is a Continuation of U.S. app...</td>\n",
              "    </tr>\n",
              "    <tr>\n",
              "      <th>7972</th>\n",
              "      <td>FIELD OF THE INVENTION \\n     The present inve...</td>\n",
              "    </tr>\n",
              "    <tr>\n",
              "      <th>9335</th>\n",
              "      <td>This application relates to U.S. provisional p...</td>\n",
              "    </tr>\n",
              "    <tr>\n",
              "      <th>566</th>\n",
              "      <td>TECHNICAL FIELD \\n     The present invention r...</td>\n",
              "    </tr>\n",
              "    <tr>\n",
              "      <th>9349</th>\n",
              "      <td>CROSS REFERENCE TO RELATED APPLICATION \\n     ...</td>\n",
              "    </tr>\n",
              "    <tr>\n",
              "      <th>8044</th>\n",
              "      <td>CROSS-REFERENCE TO RELATED APPLICATIONS \\n    ...</td>\n",
              "    </tr>\n",
              "  </tbody>\n",
              "</table>\n",
              "</div>"
            ],
            "text/plain": [
              "                                               descr_clm\n",
              "7101   CROSS-REFERENCE TO RELATED APPLICATIONS \\n    ...\n",
              "10682  BACKGROUND \\n     Advertisers increasingly see...\n",
              "7030   This application is a continuation of U.S. Ser...\n",
              "7113   BACKGROUND \\n     Product lifecycle management...\n",
              "7095   FIELD OF THE INVENTION \\n     The present inve...\n",
              "8074   RELATED APPLICATIONS \\n     This application i...\n",
              "8069   TECHNICAL FIELD \\n     The present disclosure ...\n",
              "10624  FIELD OF THE INVENTION \\n     The invention re...\n",
              "7029   TECHNICAL FIELD \\n     Embodiments of the pres...\n",
              "7039   CLAIM OF PRIORITY \\n     This application is a...\n",
              "530    This application claims the benefit of U.S. Pr...\n",
              "8042   REFERENCE TO RELATED APPLICATIONS \\n     This ...\n",
              "9311   RELATED APPLICATIONS \\n     This patent applic...\n",
              "542    CROSS-REFERENCE TO RELATED APPLICATIONS \\n    ...\n",
              "1903   TECHNICAL FIELD OF THE INVENTION \\n     The in...\n",
              "572    CROSS-REFERENCE TO RELATED APPLICATIONS \\n    ...\n",
              "7034   RELATED APPLICATIONS \\n     This application c...\n",
              "10632  TECHNICAL FIELD \\n     The present technology ...\n",
              "10643  PRIORITY \\n     This application claims priori...\n",
              "9356   TECHNICAL FIELD \\n     The present disclosure ...\n",
              "9327   CROSS REFERENCE TO OTHER APPLICATIONS \\n     T...\n",
              "8046   PRIORITY DATA \\n     This application claims p...\n",
              "9344   CROSS-REFERENCE TO RELATED APPLICATIONS \\n    ...\n",
              "7105   BACKGROUND \\n     This disclosure relates gene...\n",
              "7112   BACKGROUND \\n     Online social networks allow...\n",
              "562    BACKGROUND \\n     Unless otherwise indicated h...\n",
              "7119   CROSS REFERENCE TO RELATED APPLICATIONS \\n    ...\n",
              "4255   This application is a Continuation of U.S. app...\n",
              "7972   FIELD OF THE INVENTION \\n     The present inve...\n",
              "9335   This application relates to U.S. provisional p...\n",
              "566    TECHNICAL FIELD \\n     The present invention r...\n",
              "9349   CROSS REFERENCE TO RELATED APPLICATION \\n     ...\n",
              "8044   CROSS-REFERENCE TO RELATED APPLICATIONS \\n    ..."
            ]
          },
          "metadata": {
            "tags": []
          }
        },
        {
          "output_type": "stream",
          "text": [
            "\n"
          ],
          "name": "stdout"
        }
      ]
    },
    {
      "metadata": {
        "id": "x2ewl40Vkwq5",
        "colab_type": "code",
        "colab": {
          "base_uri": "https://localhost:8080/",
          "height": 1190
        },
        "outputId": "92b93def-183a-488a-8abb-b8dc32bec787"
      },
      "cell_type": "code",
      "source": [
        "# model.fit(features, labels)\n",
        "from sklearn.feature_selection import chi2\n",
        "\n",
        "N = 10\n",
        "for category, category_id in sorted(category_to_id.items()):\n",
        "  indices = np.argsort(model.coef_[category_id])\n",
        "  feature_names = np.array(tfidf.get_feature_names())[indices]\n",
        "  unigrams = [v for v in reversed(feature_names) if len(v.split(' ')) == 1][:N]\n",
        "  bigrams = [v for v in reversed(feature_names) if len(v.split(' ')) == 2][:N]\n",
        "  print(\"# '{}':\".format(category))\n",
        "  print(\"  . Top unigrams:\\n       . {}\".format('\\n       . '.join(unigrams)))\n",
        "  print(\"  . Top bigrams:\\n       . {}\".format('\\n       . '.join(bigrams)))"
      ],
      "execution_count": 86,
      "outputs": [
        {
          "output_type": "stream",
          "text": [
            "# '700':\n",
            "  . Top unigrams:\n",
            "       . control\n",
            "       . controller\n",
            "       . power\n",
            "       . controlling\n",
            "       . sensor\n",
            "       . robot\n",
            "       . temperature\n",
            "       . position\n",
            "       . energy\n",
            "       . controlled\n",
            "  . Top bigrams:\n",
            "       . control device\n",
            "       . control unit\n",
            "       . controller configured\n",
            "       . perspective view\n",
            "       . method controlling\n",
            "       . control signal\n",
            "       . control method\n",
            "       . power supply\n",
            "       . configured control\n",
            "       . according claim\n",
            "# '705':\n",
            "  . Top unigrams:\n",
            "       . payment\n",
            "       . transaction\n",
            "       . price\n",
            "       . financial\n",
            "       . customer\n",
            "       . provider\n",
            "       . purchase\n",
            "       . transactions\n",
            "       . account\n",
            "       . sale\n",
            "  . Top bigrams:\n",
            "       . service provider\n",
            "       . mobile device\n",
            "       . point sale\n",
            "       . credit card\n",
            "       . method claim\n",
            "       . implemented method\n",
            "       . goods services\n",
            "       . readable medium\n",
            "       . account associated\n",
            "       . computer executable\n",
            "# '706':\n",
            "  . Top unigrams:\n",
            "       . learning\n",
            "       . probability\n",
            "       . model\n",
            "       . training\n",
            "       . rule\n",
            "       . neural\n",
            "       . prediction\n",
            "       . knowledge\n",
            "       . predicting\n",
            "       . artificial\n",
            "  . Top bigrams:\n",
            "       . machine learning\n",
            "       . neural network\n",
            "       . training data\n",
            "       . knowledge base\n",
            "       . artificial intelligence\n",
            "       . artificial neural\n",
            "       . neural networks\n",
            "       . data set\n",
            "       . input data\n",
            "       . readable storage\n"
          ],
          "name": "stdout"
        }
      ]
    },
    {
      "metadata": {
        "id": "3vnSfRNAmp1s",
        "colab_type": "text"
      },
      "cell_type": "markdown",
      "source": [
        "### Do phrases appear in 706 and 705?"
      ]
    },
    {
      "metadata": {
        "id": "skrSqDfXlL03",
        "colab_type": "code",
        "colab": {
          "base_uri": "https://localhost:8080/",
          "height": 85
        },
        "outputId": "384cc934-1a4d-438f-ce78-ac3705f144c1"
      },
      "cell_type": "code",
      "source": [
        "df[df.descr_clm.str.lower().str.contains('machine learning')].code.value_counts()"
      ],
      "execution_count": 87,
      "outputs": [
        {
          "output_type": "execute_result",
          "data": {
            "text/plain": [
              "706    178\n",
              "705     17\n",
              "700      8\n",
              "Name: code, dtype: int64"
            ]
          },
          "metadata": {
            "tags": []
          },
          "execution_count": 87
        }
      ]
    },
    {
      "metadata": {
        "id": "gijkozQumnCY",
        "colab_type": "code",
        "colab": {
          "base_uri": "https://localhost:8080/",
          "height": 85
        },
        "outputId": "9289e3b9-6ae8-48b7-b968-4c22480bfd44"
      },
      "cell_type": "code",
      "source": [
        "df[df.descr_clm.str.lower().str.contains('linear regression')].code.value_counts()"
      ],
      "execution_count": 88,
      "outputs": [
        {
          "output_type": "execute_result",
          "data": {
            "text/plain": [
              "706    32\n",
              "700     7\n",
              "705     6\n",
              "Name: code, dtype: int64"
            ]
          },
          "metadata": {
            "tags": []
          },
          "execution_count": 88
        }
      ]
    },
    {
      "metadata": {
        "id": "iwEMrTwvm43b",
        "colab_type": "code",
        "colab": {
          "base_uri": "https://localhost:8080/",
          "height": 85
        },
        "outputId": "4c5d6264-9e88-4c5e-fb06-34e9ac8048cf"
      },
      "cell_type": "code",
      "source": [
        "df[df.descr_clm.str.lower().str.contains('statistical analysis')].code.value_counts()"
      ],
      "execution_count": 89,
      "outputs": [
        {
          "output_type": "execute_result",
          "data": {
            "text/plain": [
              "706    32\n",
              "700    11\n",
              "705     7\n",
              "Name: code, dtype: int64"
            ]
          },
          "metadata": {
            "tags": []
          },
          "execution_count": 89
        }
      ]
    },
    {
      "metadata": {
        "id": "eBnm0SJvm9AJ",
        "colab_type": "code",
        "colab": {
          "base_uri": "https://localhost:8080/",
          "height": 85
        },
        "outputId": "dcf3d278-7190-4b68-be56-e38a28e217c3"
      },
      "cell_type": "code",
      "source": [
        "df[df.descr_clm.str.lower().str.contains('statistics')].code.value_counts()"
      ],
      "execution_count": 90,
      "outputs": [
        {
          "output_type": "execute_result",
          "data": {
            "text/plain": [
              "706    86\n",
              "705    50\n",
              "700    11\n",
              "Name: code, dtype: int64"
            ]
          },
          "metadata": {
            "tags": []
          },
          "execution_count": 90
        }
      ]
    },
    {
      "metadata": {
        "id": "WK9MNL-3nALj",
        "colab_type": "code",
        "colab": {
          "base_uri": "https://localhost:8080/",
          "height": 85
        },
        "outputId": "11aebc86-5908-4e5b-dd35-d701a1ebedee"
      },
      "cell_type": "code",
      "source": [
        "df[df.descr_clm.str.lower().str.contains('probability')].code.value_counts()"
      ],
      "execution_count": 91,
      "outputs": [
        {
          "output_type": "execute_result",
          "data": {
            "text/plain": [
              "706    270\n",
              "705     58\n",
              "700     44\n",
              "Name: code, dtype: int64"
            ]
          },
          "metadata": {
            "tags": []
          },
          "execution_count": 91
        }
      ]
    },
    {
      "metadata": {
        "id": "ccSVD9POnKvZ",
        "colab_type": "text"
      },
      "cell_type": "markdown",
      "source": [
        "**Statistics and probability appear in both 706 and 705, meaning, there is possible opportunity to describe those processes in a different way so that it is read as a machine learning patent application instead of a business method patent (high risk of Alice rejection).**"
      ]
    },
    {
      "metadata": {
        "id": "w-eNQBPznuec",
        "colab_type": "text"
      },
      "cell_type": "markdown",
      "source": [
        "# Test model on new patent application"
      ]
    },
    {
      "metadata": {
        "id": "6ssQAsHtnHNU",
        "colab_type": "code",
        "colab": {
          "base_uri": "https://localhost:8080/",
          "height": 88
        },
        "cellView": "both",
        "outputId": "d4fb8403-d15f-4e2c-bf72-2102105f6796"
      },
      "cell_type": "code",
      "source": [
        "#@title Default title text\n",
        "texts = \"1. A system comprising:a memory that stores computer executable components a processor that executes computer executable components stored in the memory wherein the computer executable components comprise:a snapshot component that generates a first sequence of multi-dimensional time series data and a second sequence of multi-dimensional time series data from multi-dimensional time series data associated with at least two different data types generated by a data system over a consecutive period of time and a machine learning component that analyzes the first sequence of multi-dimensional time series data and the second sequence of multi-dimensional time series data using a convolutional neuralnetwork system to predict an event associated with the multi-dimensional time series data. 2. The system of claim 1 wherein the snapshot component generates a data matrix associated with the first sequence of multi-dimensional time series data and the second sequence of multi-dimensional time series data and wherein the machine learning component analyzes the data matrix using the convolutional neural network system. 3. The system of claim 1 wherein the machine learning component analyzes the first sequence of multi-dimensional time series data and the second sequence of multi-dimensional time series data using a parallel network of processing units associated with the convolutional neural network system and wherein performance of the processor to predict the event associated with the multi-dimensional time series data is improved by employing the convolutional neural network system. 4. The system of claim 1 wherein the snapshot component determines a size of the first sequence of multi-dimensional time series data and the second sequence of multi-dimensional time series data based on data associated with the convolutional neural network system. 5. The system of claim 1 wherein the snapshot component determines a set of parameters for the convolutional neuralnetwork system based on a classification of data associated with the convolutional neural network system. 6. The system of claim 1 wherein a portion of data from the first sequence of multi-dimensional time series data corresponds to the second sequence of multi-dimensional time series data and wherein the machine learning component analyzes the portion of the data. 7. The system of claim 1 wherein at least the first sequence of multi-dimensional time series data comprises dynamic data that is related to other data included in the first sequence of multi-dimensional time series data or the second sequence of multi-dimensional time series data and wherein the machine learning component analyzes the dynamic data. 8. The system of claim 1 wherein the snapshot component generates the first sequence of multi-dimensional time series data and the second sequence of multi-dimensional time series data based on feedback data indicative of information for tuning the first sequence of multi-dimensional time series data and the second sequence of multi-dimensional time series data. 9. The system of claim 1 wherein the machine learning component adjusts the convolutional neural network system based on feedback data indicative of information for tuning the convolutional neural network system. 10. The system of claim 1 wherein the convolutional neuralnetwork system is associated with nonlinear processing of features associated with the first sequence of multi-dimensional time series data and the second sequence of multi-dimensional time series data. 11. The system of claim 1 further comprising:a display component that generates a user interface to display output data associated with the event in a human interpretable format. 12-19. (canceled) 20. A computer program product for machine learning the computer program product comprising a computer readable storage medium having program instructions embodied therewith the program instructions executable by processor to cause the processor to:generate by the processor a data matrix based on first time series data associated with a first data source and second time series data associated with a second data source analyze by the processor the data matrix associated with the first time series data and the second time series data using a convolutional neural network system and generate by the processor prediction data that comprises a predicted event associated with the first time series data and the second time series data based on data generated by the convolutional neural network system. 21. The computer program product of claim 20 wherein the program instructions are further executable by the processor to cause the processor to:modify by the processor the data matrix based on the data generated by the convolutional neural network system. 22. The computer program product of claim 20 wherein the program instructions are further executable by the processor to cause the processor to:modify by the processor a convolutional neural networkassociated with the convolutional neural network system based on the data generated by the convolutional neuralnetwork system. 23. A computer program product for machine learning the computer program product comprising a computer readable storage medium having program instructions embodied therewith the program instructions executable by processor to cause the processor to:generate by the processor a data matrix based on multi-dimensional time series data associated with at least two different data types perform by the processor a convolutional neural network process based on the data matrix associated with the multi-dimensional time series data and generate by the processor prediction data that comprises a predicted event associated with the multi-dimensional time series data based on the convolutional neural network process. 24. The computer program product of claim 23 wherein the program instructions are further executable by the processor to cause the processor to:modify by the processor the data matrix based on the prediction data. 25. The computer program product of claim 23 wherein the program instructions are further executable by the processor to cause the processor to:modify by the processor a convolutional neural networkassociated with the convolutional neural network process based on the prediction data.\\\"\" #@param {type:\"string\"}\n",
        "texts = [texts]\n",
        "# text from patent https://patentimages.storage.googleapis.com/e2/3f/75/2f32412145e159/US20180260697A1.pdf\n",
        "\n",
        "text_features = tfidf.transform(texts)\n",
        "predictions = model.predict(text_features)\n",
        "for text, predicted in zip(texts, predictions):\n",
        "  print(\"  - Predicted as: '{}'\".format(id_to_category[predicted]))\n",
        "  print(\"\")\n",
        "  print('\"{}\"'.format(text))"
      ],
      "execution_count": 94,
      "outputs": [
        {
          "output_type": "stream",
          "text": [
            "  - Predicted as: '706'\n",
            "\n",
            "\"1. A system comprising:a memory that stores computer executable components a processor that executes computer executable components stored in the memory wherein the computer executable components comprise:a snapshot component that generates a first sequence of multi-dimensional time series data and a second sequence of multi-dimensional time series data from multi-dimensional time series data associated with at least two different data types generated by a data system over a consecutive period of time and a machine learning component that analyzes the first sequence of multi-dimensional time series data and the second sequence of multi-dimensional time series data using a convolutional neuralnetwork system to predict an event associated with the multi-dimensional time series data. 2. The system of claim 1 wherein the snapshot component generates a data matrix associated with the first sequence of multi-dimensional time series data and the second sequence of multi-dimensional time series data and wherein the machine learning component analyzes the data matrix using the convolutional neural network system. 3. The system of claim 1 wherein the machine learning component analyzes the first sequence of multi-dimensional time series data and the second sequence of multi-dimensional time series data using a parallel network of processing units associated with the convolutional neural network system and wherein performance of the processor to predict the event associated with the multi-dimensional time series data is improved by employing the convolutional neural network system. 4. The system of claim 1 wherein the snapshot component determines a size of the first sequence of multi-dimensional time series data and the second sequence of multi-dimensional time series data based on data associated with the convolutional neural network system. 5. The system of claim 1 wherein the snapshot component determines a set of parameters for the convolutional neuralnetwork system based on a classification of data associated with the convolutional neural network system. 6. The system of claim 1 wherein a portion of data from the first sequence of multi-dimensional time series data corresponds to the second sequence of multi-dimensional time series data and wherein the machine learning component analyzes the portion of the data. 7. The system of claim 1 wherein at least the first sequence of multi-dimensional time series data comprises dynamic data that is related to other data included in the first sequence of multi-dimensional time series data or the second sequence of multi-dimensional time series data and wherein the machine learning component analyzes the dynamic data. 8. The system of claim 1 wherein the snapshot component generates the first sequence of multi-dimensional time series data and the second sequence of multi-dimensional time series data based on feedback data indicative of information for tuning the first sequence of multi-dimensional time series data and the second sequence of multi-dimensional time series data. 9. The system of claim 1 wherein the machine learning component adjusts the convolutional neural network system based on feedback data indicative of information for tuning the convolutional neural network system. 10. The system of claim 1 wherein the convolutional neuralnetwork system is associated with nonlinear processing of features associated with the first sequence of multi-dimensional time series data and the second sequence of multi-dimensional time series data. 11. The system of claim 1 further comprising:a display component that generates a user interface to display output data associated with the event in a human interpretable format. 12-19. (canceled) 20. A computer program product for machine learning the computer program product comprising a computer readable storage medium having program instructions embodied therewith the program instructions executable by processor to cause the processor to:generate by the processor a data matrix based on first time series data associated with a first data source and second time series data associated with a second data source analyze by the processor the data matrix associated with the first time series data and the second time series data using a convolutional neural network system and generate by the processor prediction data that comprises a predicted event associated with the first time series data and the second time series data based on data generated by the convolutional neural network system. 21. The computer program product of claim 20 wherein the program instructions are further executable by the processor to cause the processor to:modify by the processor the data matrix based on the data generated by the convolutional neural network system. 22. The computer program product of claim 20 wherein the program instructions are further executable by the processor to cause the processor to:modify by the processor a convolutional neural networkassociated with the convolutional neural network system based on the data generated by the convolutional neuralnetwork system. 23. A computer program product for machine learning the computer program product comprising a computer readable storage medium having program instructions embodied therewith the program instructions executable by processor to cause the processor to:generate by the processor a data matrix based on multi-dimensional time series data associated with at least two different data types perform by the processor a convolutional neural network process based on the data matrix associated with the multi-dimensional time series data and generate by the processor prediction data that comprises a predicted event associated with the multi-dimensional time series data based on the convolutional neural network process. 24. The computer program product of claim 23 wherein the program instructions are further executable by the processor to cause the processor to:modify by the processor the data matrix based on the prediction data. 25. The computer program product of claim 23 wherein the program instructions are further executable by the processor to cause the processor to:modify by the processor a convolutional neural networkassociated with the convolutional neural network process based on the prediction data.\"\"\n"
          ],
          "name": "stdout"
        }
      ]
    }
  ]
}