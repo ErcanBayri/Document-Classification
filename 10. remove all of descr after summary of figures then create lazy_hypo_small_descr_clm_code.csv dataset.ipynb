{
 "cells": [
  {
   "cell_type": "code",
   "execution_count": 1,
   "metadata": {
    "ExecuteTime": {
     "end_time": "2018-11-27T20:37:45.574606Z",
     "start_time": "2018-11-27T20:37:43.590268Z"
    }
   },
   "outputs": [],
   "source": [
    "import pandas as pd\n",
    "import numpy as np\n",
    "import scipy.stats as scs\n",
    "import statsmodels.api as sm\n",
    "import matplotlib.pyplot as plt\n",
    "import re\n",
    "\n",
    "%matplotlib inline\n",
    "%config InlineBackend.figure_format='retina'"
   ]
  },
  {
   "cell_type": "code",
   "execution_count": 2,
   "metadata": {
    "ExecuteTime": {
     "end_time": "2018-11-27T20:37:54.315455Z",
     "start_time": "2018-11-27T20:37:46.615448Z"
    }
   },
   "outputs": [
    {
     "data": {
      "text/html": [
       "<div>\n",
       "<style scoped>\n",
       "    .dataframe tbody tr th:only-of-type {\n",
       "        vertical-align: middle;\n",
       "    }\n",
       "\n",
       "    .dataframe tbody tr th {\n",
       "        vertical-align: top;\n",
       "    }\n",
       "\n",
       "    .dataframe thead th {\n",
       "        text-align: right;\n",
       "    }\n",
       "</style>\n",
       "<table border=\"1\" class=\"dataframe\">\n",
       "  <thead>\n",
       "    <tr style=\"text-align: right;\">\n",
       "      <th></th>\n",
       "      <th>descr</th>\n",
       "      <th>clm</th>\n",
       "      <th>code</th>\n",
       "    </tr>\n",
       "  </thead>\n",
       "  <tbody>\n",
       "    <tr>\n",
       "      <th>0</th>\n",
       "      <td>CROSS-REFERENCE TO RELATED APPLICATIONS \\n    ...</td>\n",
       "      <td>1. A computer-implemented method of designing ...</td>\n",
       "      <td>706</td>\n",
       "    </tr>\n",
       "    <tr>\n",
       "      <th>1</th>\n",
       "      <td>RELATED APPLICATIONS \\n     This application i...</td>\n",
       "      <td>What is claimed is: \\n     \\n         1 . A sy...</td>\n",
       "      <td>705</td>\n",
       "    </tr>\n",
       "    <tr>\n",
       "      <th>2</th>\n",
       "      <td>CROSS REFERENCE TO RELATED APPLICATION \\n     ...</td>\n",
       "      <td>1. A weather information display device compri...</td>\n",
       "      <td>706</td>\n",
       "    </tr>\n",
       "    <tr>\n",
       "      <th>3</th>\n",
       "      <td>TECHNICAL FIELD \\n     The present disclosure ...</td>\n",
       "      <td>1 . A method of obtaining a user&amp;#39;s measure...</td>\n",
       "      <td>705</td>\n",
       "    </tr>\n",
       "    <tr>\n",
       "      <th>4</th>\n",
       "      <td>CROSS-REFERENCE TO RELATED APPLICATIONS \\n    ...</td>\n",
       "      <td>1 . A method for providing borrower foreclosur...</td>\n",
       "      <td>705</td>\n",
       "    </tr>\n",
       "  </tbody>\n",
       "</table>\n",
       "</div>"
      ],
      "text/plain": [
       "                                               descr  \\\n",
       "0  CROSS-REFERENCE TO RELATED APPLICATIONS \\n    ...   \n",
       "1  RELATED APPLICATIONS \\n     This application i...   \n",
       "2  CROSS REFERENCE TO RELATED APPLICATION \\n     ...   \n",
       "3  TECHNICAL FIELD \\n     The present disclosure ...   \n",
       "4  CROSS-REFERENCE TO RELATED APPLICATIONS \\n    ...   \n",
       "\n",
       "                                                 clm  code  \n",
       "0  1. A computer-implemented method of designing ...   706  \n",
       "1  What is claimed is: \\n     \\n         1 . A sy...   705  \n",
       "2  1. A weather information display device compri...   706  \n",
       "3  1 . A method of obtaining a user&#39;s measure...   705  \n",
       "4  1 . A method for providing borrower foreclosur...   705  "
      ]
     },
     "execution_count": 2,
     "metadata": {},
     "output_type": "execute_result"
    }
   ],
   "source": [
    "df = pd.read_csv('/Users/rcm/Google Drive/Galvanize Data Science Immersive/Capstone/data/classification/small_descr_clm_code.csv', index_col=None,)\n",
    "df.drop('Unnamed: 0',axis=1, inplace=True)\n",
    "df.head()"
   ]
  },
  {
   "cell_type": "code",
   "execution_count": 3,
   "metadata": {
    "ExecuteTime": {
     "end_time": "2018-11-27T20:38:04.443011Z",
     "start_time": "2018-11-27T20:37:55.497024Z"
    }
   },
   "outputs": [],
   "source": [
    "# vectorized method is faster than apply and map\n",
    "descr_series = df['descr']\n",
    "descr_series = descr_series.str.replace('^\\s +Description\\s*|\\s\\sdetailed\\sdescription.*','', case=None, flags=re.IGNORECASE|re.DOTALL, regex=True)\n",
    "\n",
    "\n"
   ]
  },
  {
   "cell_type": "code",
   "execution_count": 4,
   "metadata": {
    "ExecuteTime": {
     "end_time": "2018-11-27T20:38:13.844159Z",
     "start_time": "2018-11-27T20:38:13.639617Z"
    }
   },
   "outputs": [],
   "source": [
    "df['descr'] = descr_series"
   ]
  },
  {
   "cell_type": "code",
   "execution_count": 5,
   "metadata": {
    "ExecuteTime": {
     "end_time": "2018-11-27T20:38:14.943687Z",
     "start_time": "2018-11-27T20:38:14.929186Z"
    },
    "scrolled": true
   },
   "outputs": [
    {
     "data": {
      "text/html": [
       "<div>\n",
       "<style scoped>\n",
       "    .dataframe tbody tr th:only-of-type {\n",
       "        vertical-align: middle;\n",
       "    }\n",
       "\n",
       "    .dataframe tbody tr th {\n",
       "        vertical-align: top;\n",
       "    }\n",
       "\n",
       "    .dataframe thead th {\n",
       "        text-align: right;\n",
       "    }\n",
       "</style>\n",
       "<table border=\"1\" class=\"dataframe\">\n",
       "  <thead>\n",
       "    <tr style=\"text-align: right;\">\n",
       "      <th></th>\n",
       "      <th>descr</th>\n",
       "      <th>clm</th>\n",
       "      <th>code</th>\n",
       "    </tr>\n",
       "  </thead>\n",
       "  <tbody>\n",
       "    <tr>\n",
       "      <th>0</th>\n",
       "      <td>CROSS-REFERENCE TO RELATED APPLICATIONS \\n    ...</td>\n",
       "      <td>1. A computer-implemented method of designing ...</td>\n",
       "      <td>706</td>\n",
       "    </tr>\n",
       "    <tr>\n",
       "      <th>1</th>\n",
       "      <td>RELATED APPLICATIONS \\n     This application i...</td>\n",
       "      <td>What is claimed is: \\n     \\n         1 . A sy...</td>\n",
       "      <td>705</td>\n",
       "    </tr>\n",
       "    <tr>\n",
       "      <th>2</th>\n",
       "      <td>CROSS REFERENCE TO RELATED APPLICATION \\n     ...</td>\n",
       "      <td>1. A weather information display device compri...</td>\n",
       "      <td>706</td>\n",
       "    </tr>\n",
       "    <tr>\n",
       "      <th>3</th>\n",
       "      <td>TECHNICAL FIELD \\n     The present disclosure ...</td>\n",
       "      <td>1 . A method of obtaining a user&amp;#39;s measure...</td>\n",
       "      <td>705</td>\n",
       "    </tr>\n",
       "    <tr>\n",
       "      <th>4</th>\n",
       "      <td>CROSS-REFERENCE TO RELATED APPLICATIONS \\n    ...</td>\n",
       "      <td>1 . A method for providing borrower foreclosur...</td>\n",
       "      <td>705</td>\n",
       "    </tr>\n",
       "  </tbody>\n",
       "</table>\n",
       "</div>"
      ],
      "text/plain": [
       "                                               descr  \\\n",
       "0  CROSS-REFERENCE TO RELATED APPLICATIONS \\n    ...   \n",
       "1  RELATED APPLICATIONS \\n     This application i...   \n",
       "2  CROSS REFERENCE TO RELATED APPLICATION \\n     ...   \n",
       "3  TECHNICAL FIELD \\n     The present disclosure ...   \n",
       "4  CROSS-REFERENCE TO RELATED APPLICATIONS \\n    ...   \n",
       "\n",
       "                                                 clm  code  \n",
       "0  1. A computer-implemented method of designing ...   706  \n",
       "1  What is claimed is: \\n     \\n         1 . A sy...   705  \n",
       "2  1. A weather information display device compri...   706  \n",
       "3  1 . A method of obtaining a user&#39;s measure...   705  \n",
       "4  1 . A method for providing borrower foreclosur...   705  "
      ]
     },
     "execution_count": 5,
     "metadata": {},
     "output_type": "execute_result"
    }
   ],
   "source": [
    "df.head()"
   ]
  },
  {
   "cell_type": "code",
   "execution_count": 28,
   "metadata": {
    "ExecuteTime": {
     "end_time": "2018-11-27T20:31:11.958847Z",
     "start_time": "2018-11-27T20:31:11.945132Z"
    },
    "scrolled": true
   },
   "outputs": [
    {
     "data": {
      "text/plain": [
       "'CROSS-REFERENCE TO RELATED APPLICATIONS \\n     This application claims priority to U.S. application Ser. No. 10/024,649, filed Dec. 17, 2001, now issued as U.S. Pat. No. 6,996,550, and claims the benefit of Provisional Application No. 60/256,270, filed on Dec. 15, 2000, both of which are incorporated by reference herein. \\n    \\n    \\n     STATEMENT REGARDING FEDERALLY SPONSORED RESEARCH \\n     The U.S. Government has a paid-up license in this invention and the right in limited circumstances to require the patent owner to license others on reasonable terms as provided for by the terms of contract No. NOOO14-98-C-0288 awarded by the Office of Naval Research. \\n    \\n    \\n     TECHNICAL FIELD \\n     This invention relates to methods and apparatus for designing and preparing experiments. \\n     BACKGROUND \\n     There is currently a tremendous amount of activity directed toward the discovery and optimization of materials and material systems such as phosphors, polymers, pharmacological compounds, semiconducting solids, and devices and the like. These new materials are typically useful because they have superior values for one or several properties. These properties could include (but are not limited to) electrical conductivity, color, bio-inertness, fabrication cost, or any other property. A variety of fields (pharmacology, chemistry, materials science) focus on the development of new materials and devices with superior properties. Unfortunately, even though the chemistry of both small molecules and extended solids has been extensively explored, few general principles have emerged that allow one to predict with certainty the composition, structure, and reaction pathways for synthesis of such materials. New materials are typically discovered through experimentation, rather than designed from existing principles. \\n     The ability to discover new materials presupposes (1) the ability to actually make the material, and (2) the ability to accurately measure the properties of interest, or other properties that correlate with the properties of interest. Development of a material with superior properties that correlate with the properties of interest. Development of a material with superior properties also requires (3) the ability to make materials that are different in some way—meaning that the materials are in some sense not identical, whether in composition, molecular structure, processing history, raw material source, or any other difference that might impact a material&#39;s properties—and (4) a way to compare the properties of the different materials. \\n     A common challenge is understanding how two materials actually differ from each other. Any two materials might be similar in one or many ways (e.g., composition) but different in many other ways. Thus, the properties of one material might be “better” (for a particular purpose) than those of another material for any number of reasons. One goal of experimental science is determining how properties vary with different parameters. In this sense, a parameter is any variable whose value can change in either a continuous or discontinuous fashion. Parameters can include concentrations of different chemical species (e.g., elements, compounds, solvents), temperature, annealing time, molecular weight, exposure time to radiation, process sequence or any other variable. Experimental studies typically examine the variation of a given property (e.g., smell) with a measured parameter (e.g., molecular weight), often with the implicit assumption that all other parameters are held constant (i.e., their values are identical for the compared samples). In the ideal case, two materials only differ in one parameter, and variation in the measured property is construed to be caused by variation in this parameter. \\n     Unfortunately, it is difficult or impossible to completely determine how two materials are “different”. While variation in a given parameter (e.g., chemical composition) might be fairly obvious (e.g., one sample has 20% more nitrogen than the other), variation in another parameter might remain hidden (e.g., one sample has a slightly preferred grain orientation, vs. another sample&#39;s random orientation). The challenge is determining which parameters have a significant effect on the property of interest. This challenge requires the examination of the effects of many different parameters on the desired properties. Variation in each of these parameters creates a parameter space: a high-dimensional space defined by all the relevant parameters that describe a material. A single material is thus defined by its coordinates within this parameter space—the values for each of these parameters for the given material. The goal of materials development is finding the coordinates of the material with the best set of desired properties. The commonly used analogy “looking for a needle in a haystack” can loosely describe this process: the parameter space is the “haystack”, and the material(s) with the best set of properties is (are) the needle(s). \\n     Traditionally, the discovery and development of various materials has predominantly been a trial and error process carried out by scientists who generate data one experiment at a time—in other words, each axis in the parameter space is examined serially. This process suffers from low success rates, long time lines, and high costs, particularly as the desired materials increase in complexity. Nevertheless, these methods have been successful for developing materials whose properties are governed by a relatively small number of parameters. \\n     However, many properties can be a function of a large number of different parameters. Additionally, the combined effects of parameter variation can be much more complicated than the discrete effects of varying one or two parameters by themselves. For such a property, a very large parameter space must be examined in order to find the material with the best properties. As a result, the discovery of new materials often depends largely on the ability to synthesize and analyze large numbers of new materials over a very broad parameter space. For example, one commentator has noted that to search the system of organic compounds of up to thirty atoms drawn from just five elements—C, O, N, S and H—would require preparing a library of roughly 10 63  samples (an amount that, at just 1 mg each, is estimated to require a total mass of approximately 10 60  grams—roughly the mass of 10 27  suns). See W. F. Maier, “Combinatorial Chemistry—Challenge and Chance for the Development of New Catalysts and Materials,” Angew. Chem. Int. Ed., 1999, 38, 1216. When material characteristics vary as a function of process conditions as well as composition, the search becomes correspondingly more complex. One approach to the preparation and analysis of such large numbers of compounds has been the application of combinatorial methods. \\n     In general, combinatorics refers to the process of creating vast numbers of discrete, diverse samples by varying a set of parameters in all possible combinations. Since its introduction into the bio- and pharmaceutical industries in the late 80&#39;s, it has dramatically sped up the drug discovery process and is now becoming a standard practice in those industries. See, e.g., Chem. Eng. News, Feb. 12, 1996. Only recently have combinatorial techniques been successfully applied to the preparation of materials outside of these fields. See, e.g., E. Danielson et al., SCIENCE 279, pp. 837-839, 1998; E. Danielson et al., NATURE 389, pp. 944-948, 1997; G. Briceno et al., SCIENCE 270, pp. 273-275, 1995; X. D. Xiang et al., SCIENCE 268, 1738-1740, 1995. By using various rapid deposition techniques, array-addressing strategies, and processing conditions, it is now possible to generate hundreds to thousands of diverse materials on a substrate of only a few square inches. These materials include, e.g., high Tc superconductors, magnetoresistors, and phosphors. Using these techniques, it is now possible to create large libraries of chemically diverse compounds or materials, including biomaterials, organics, inorganics, intermetallics, metal alloys, and ceramics, using a variety of sputtering, ablation, evaporation, and liquid dispensing systems as disclosed, for example, in U.S. Pat. Nos. 5,959,297, 6,004,617, 6,030,917 and 6,045,671, and U.S. application Ser. No. 09/119,187, filed on Jul. 20, 1998, each of which is incorporated by reference herein. \\n     An implicit goal of any experimental study is getting the most information for the minimum cost (including time); this goal is especially stringent for large parameter spaces that require vast numbers of experiments. This requires (1) maximizing the information content of each experimental point, and (2) minimizing the resource cost to synthesize and measure each experimental point. The process of deciding where in the parameter space to make and measure samples is called “sampling” or “populating” the parameter space. This process requires choosing a plurality of points in the space representing materials for synthesis and measurement. A subsequent, equally important requirement is actually making and measuring samples with the desired coordinates. \\n     As discussed previously, the parameter spaces to which combinatorial methods are typically applied are often very large. Additionally, small changes in the values of parameters can have a large change on properties. As a result, the effective design and preparation of combinatorial libraries is a crucial factor in the success of a combinatorial project. This requirement (the process of choosing points for experimentation that have the most information at lowest cost) is described herein as efficient sampling of the parameter space. The goal of efficient sampling is choosing the minimum number of points for evaluation (synthesis and measurement) while still achieving a material with the desired set of properties. While efficient sampling is of course important for low dimensional parameter spaces, it is critical for cost effective exploration of high dimensional parameter spaces. \\n     Regardless of the dimensionality of the relevant parameter space, historical experimentation has almost always been based upon synthesis and measurement of lower dimensional spaces (e.g., slices or projections). The ease with which humans interpret graphical data has led to the design of most experiments as evaluation of the response of a single dependent variable (y) on a single independent variable (x). Indeed, scientists using combinatorial methods have often designed combinatorial libraries by transposing a two dimensional projection from the parameter space onto a (two-dimensional) plane. For a given N-dimensional parameter space, N−2 parameters are constrained by the scientist, such that only 2 parameters vary independently across the library. This variation may be achieved by creating a set of gradients that define composition change across the library, or by defining a set of linear equations for distributing components to various locations on the substrate, or other ways. \\n     Because the dimensionality of the projection is the same as the dimensionality of the substrate (i.e., a dimensionality of two), it is often easy to correlate the variation of points across the library with variation across the parameter space, which can aid interpretation. Additionally, it might often be relatively easier to perform the physical synthesis process (i.e., make the library) when the parameter space is sampled using projections. As a result, many combinatorial libraries are made by directly transposing different two-dimensional projections onto a two-dimensional substrate or other carrier. This method is useful for a large range of unexplored materials (e.g., ternary composition diagrams), so has found extensive use for low-dimensional parameter space explorations. \\n     However, direct transposition of projections, whether by gradients, equations, or other methods, may not be the most efficient way to sample high-dimensional parameter spaces. Indeed, the ease with which 2-D projections can be designed, synthesized, and interpreted has often taken precedence over higher-dimensional sampling strategies that could be more efficient. Additionally, inferring the variation of properties in high-dimensional spaces using only data from multiple projections through the space can lead to erroneous conclusions for complex systems. \\n     In summary, the sampling strategy for the vast majority of prior scientific work is a result of either human interpretive limitations (for example, not being able to “see” in high dimensions) or equipment limitations. More precisely, for many combinatorial studies, the library design process has yielded the sampling strategy, not the other way around. While this is sufficient if a given library design yields an efficient sampling, it is not optimal if the library design does not yield an efficient sampling. \\n     SUMMARY \\n     The invention provides methods and apparatus for efficiently designing and performing experiments. In general, in one aspect, the invention provides computer-implemented methods and apparatus, including computer program apparatus, implementing techniques for designing a set of experiments to be performed with a set of resources. The techniques include providing a set of parameters and a set of constraints including one or more experimental constraints representing limitations on operations that can be performed with the set of resources, generating a plurality of configurations based on the parameters and the experimental constraints, selecting a configuration from the plurality of configurations, and defining a set of experiments based on the selected configuration. The parameters include a plurality of factors to be varied in a set of experiments and represent axes defining a parameter space. Each configuration includes a plurality of experimental points. Each point has a set of values for the parameters. \\n     Particular implementations can include one or more of the following features. The set of constraints can include one or more experiment lattices or lattice points, representing an arrangement in which experiments in a set of experiments will be performed. The lattice points can represent locations on a substrate. The set of constraints can include a set of one or more patterns representing the application of parameters to one or more lattice points of an experiment lattice under a set of experimental constraints represented by a set of attributes. Generating a plurality of configurations can include generating a plurality of instances of one or more of the patterns, each pattern instance being defined by a set of attribute values specifying a quantity of a parameter to be applied at one or more lattice points of an experiment lattice, and combining the pattern instances to generate a configuration, such that the parameter values for a point in the configuration are based on the parameter values specified by the combined pattern instances for a corresponding lattice location. \\n     The patterns can include one or more device patterns having attributes representing constraints associated with one or more devices for performing operations at one or more locations represented by lattice points of the experiment lattice. The operations can include process steps for applying parameters at the locations. The process steps can include depositing materials at one or more locations. The process steps can include subjecting materials at one or more locations to processing conditions. The device pattern attributes for one or more device patterns can include one or more device geometry attributes specifying a geometry in which a parameter will be applied to a substrate. The device geometry attributes can include a thickness attribute representing a quantity of the parameter to be applied. The device patterns can represent openings in a mask for exposing locations on a substrate. The device patterns can represent openings in a shutter mask system for exposing locations on a substrate. The device patterns can represent a set of dispensing tips for delivering materials to locations on a substrate. The plurality of pattern instances can include a plurality of device pattern instances specifying amounts of one or more materials to be deposited at locations on a substrate. \\n     The set of constraints can includes one or more component patterns representing an arrangement of materials to be used in performing a set of experiments. Generating a plurality of pattern instances can include superimposing the pattern instances with the component patterns, such that the pattern instances represent the application of the arrangement of materials to lattice points of the experiment lattice. The component patterns can include a component pattern representing a library lattice for a parent library of materials to be used in performing a set of experiments. \\n     Combining the pattern instances can include superimposing a plurality of pattern instances with one or more experiment lattices. The configurations can represent sets of experiments that can be performed with the set of resources. The plurality of configurations can be generated by repeatedly generating and combining pattern instances. Generating a plurality of configurations can include generating a plurality of sets of pattern instances by varying the number and/or attribute values of pattern instances. Generating a plurality of configurations can include generating a first configuration and subsequently generating a sequence of second configurations, each of the second configurations being generated by adding a pattern instance to a preceding configuration in the sequence, removing a pattern instance from a preceding configuration in the sequence, or changing an attribute value for an attribute of a pattern instance in a preceding configuration in the sequence. The first configuration can be a pseudo-random configuration. \\n     Selecting a configuration from the plurality of configurations can include calculating a figure of merit for each of the configurations and applying a selection rule to the calculated figures of merit. The figure of merit can be calculated by comparing parameter space points for an experimental configuration with a set of sampling requirements for a desired set of experiments. The set of sampling requirements can include a set of target points representing a desired set of experiments. The selected configuration can be required to include a point corresponding to each point in the set of target points. The figure of merit can be calculated as a function of a distance in the parameter space between points in the configuration and points in the set of target points. The figure of merit can be calculated as a function of the resource cost to perform a set of experiments defined by the experimental points in the configuration. The resource cost for a configuration can be determined as a function of the number of patterns from which the configuration was generated. \\n     Generating a plurality of configurations and selecting a configuration can include performing an optimization process. The optimization process can be selected from Monte Carlo processes, simplex processes, conjugate gradient processes, genetic algorithm processes and other processes. The optimization process can include a Monte Carlo optimization process based on simulated annealing, parallel tempering, or a combination thereof. \\n     Combining the pattern instances can include defining a sequence of pattern instances, such that the points in the configuration are defined in part by order information derived from the sequence. Generating a plurality of configurations can include generating a first configuration and subsequently generating a sequence of second configurations, with each second configuration being generated by adding a pattern instance to a preceding configuration in the sequence, removing a pattern instance from a preceding configuration in the sequence, changing an attribute value for an attribute of a pattern instance in a preceding configuration in the sequence, or changing the position of a pattern instance in the sequence. Selecting a configuration can include identifying an optimum sequence of events for the set of experiments. \\n     The set of patterns can include patterns representing alternate applications of parameters to lattice points of an experiment lattice. The set of patterns can include a first pattern defined by a first set of attributes and a second pattern defined by a second set of attributes, with the second set of attributes differing from the first set of attributes in at least one attribute. Generating a plurality of configurations can include combining instances of the first pattern to generate a first configuration and combining instances of the second pattern to generate a second configuration. Selecting a configuration can include identifying an optimum pattern from the first and second patterns. \\n     The experiment lattices can include a first experiment lattice representing a first arrangement in which a set of experiments could be performed and a second experiment lattice representing a second arrangement in which the set of experiments could be performed. Generating a plurality of configurations can include superimposing pattern instances with the first experiment lattice to generate a first configuration and superimposing pattern instances with the second experiment lattice to generate a second configuration. Selecting a configuration can include identifying an optimum experiment lattice from the first and second experiment lattices. \\n     The component patterns can include a first component pattern representing a first arrangement of materials that could be used in performing the set of experiments and a second arrangement of materials that could be used in performing the set of experiments. Generating a plurality of configurations can include generating a first configuration based on the first component pattern and a second configuration based on the second component pattern. Selecting a configuration can include identifying an optimum component pattern from the first and second component patterns. \\n     Defining the set of experiments based on the selected configuration can include introducing a change to the selected configuration and defining the set of experiments based on the changed configuration. The set of constraints can include a first set of experimental constraints representing limitations on operations that can be performed with a first set of resources and a second set of experimental constraints representing limitations on operations that can be performed with a second set of resources. Generating a plurality of configurations can include generating a first configuration based on the first set of experimental constraints and a second configuration based on the second set of experimental constraints. Selecting a configuration can include identifying an optimum set of resources from the first and second sets of resources. The techniques can include outputting electronic data representing a design for the set of experiments. \\n     In general, in another aspect, the invention provides computer-implemented methods and apparatus, including computer program apparatus, implementing techniques for designing a set of experiments to be performed with a set of resources. The techniques include providing a set of parameters, one or more experiment lattices, and one or more patterns, generating a plurality of instances of one or more of the patterns, combining the pattern instances to generate a set of experimental points, defining a set of experiments based on the experimental points. The parameters include a plurality of factors to be varied in a set of experiments and represent axes defining a parameter space. Each experiment lattice includes one or more lattice points and represents an arrangement in which experiments in a set of experiments will be performed. Each pattern representing the application of a parameter to one or more lattice points of an experiment lattice under a set of experimental constraints representing limitations on operations that can be performed with the set of resources. The experimental constraints for a given pattern are represented by a set of attributes. Each pattern instance is defined by a set of attribute values for the attributes defining the pattern. The set of attribute values for a pattern specifies a quantity of a parameter to be applied at one or more lattice points of an experiment lattice. Each point has a set of values for the parameters based on the parameter values specified by the combined pattern instances for a corresponding lattice location. \\n     In general, in another aspect, the invention provides systems for performing a set of experiments. The systems include one or more devices configured to apply a plurality of parameters to a plurality of locations on a substrate and a programmable processor. The parameters include a plurality of factors to be varied in a set of experiments and represent axes defining a parameter space. The application of parameters to the substrate locations is defined by one or more patterns. Each pattern represents the application of a parameter to one or more substrate locations under a set of experimental constraints representing limitations on operations that can be performed with the devices. The experimental constraints for a given pattern are represented by a set of attributes. The programmable processor is configured to generate a plurality of instances of one or more of the patterns, combine the pattern instances to generate a configuration, define a design for a set of experiments based on the configuration, and instruct the devices to carry out the set of experiments according to the design. Each pattern instance is defined by a set of attribute values for the attributes specifying a quantity of the parameter to be applied at one or more locations on the substrate. Each configuration includes a plurality of experimental points. Each point has a set of values for the parameters based on the quantities specified by the combined pattern instances for a corresponding substrate location. The design includes for each experiment in the set of experiments a set of parameter values quantifying each of a plurality of the parameters to be applied in the experiment. \\n     In particular implementations, the programmable processor can be configured to provide a set of target points representing a desired set of experiments, generate a plurality of configurations, select an configuration from the plurality of experimental configurations based on a comparison of the points in the configurations to the set of target points, and define the design for the set of experiments based on the selected configuration. The set of target points can include a plurality of points in a parameter space defined by a plurality of experimental parameters. Each of the points in the set of target points can have a set of parameter values. The plurality of configurations are generated by generating a plurality of sets of pattern instances and combining the instances of each set of the pattern instances. Each configuration includes a plurality of points in the parameter space. \\n     The details of one or more embodiments of the invention are set forth in the accompanying drawings and the description below. Other features, objects, and advantages of the invention will be apparent from the description and drawings, and from the claims. \\n    \\n    \\n     \\n       DESCRIPTION OF DRAWINGS \\n         FIG. 1  is a block diagram illustrating a system for designing a set of experiments. \\n         FIGS. 2A-B  illustrate experiment lattices suitable for synthesizing a library of materials. \\n         FIGS. 3A-C  illustrate a physical vapor deposition tool for synthesizing a library of materials. \\n         FIG. 4  illustrates deposition profiles for a series of components during synthesis of a library of materials. \\n         FIGS. 5A-B  illustrate deposition profiles of a component during synthesis of a library of materials. \\n         FIGS. 6A-E  illustrate a series of masking systems for synthesizing a library of materials. \\n         FIG. 7  is a flow diagram illustrating a method of synthesizing a high-order library of materials on a two-dimensional substrate. \\n         FIG. 8A  is a graphical representation of a configuration of patterns representing a high-dimensional library design. \\n         FIGS. 8B-C  illustrate composition maps for the library design of  FIG. 8A . \\n         FIG. 9  is a flow diagram illustrating portions of a parallel tempering optimization method. \\n         FIG. 10  is a flow diagram further illustrating a parallel tempering optimization method. \\n         FIG. 11  is a flow diagram illustrating a simulated annealing optimization method. \\n         FIG. 12  is a flow diagram illustrating multiple modes of operation of a library optimization system. \\n     \\n    \\n    \\n     Like reference symbols in the various drawings indicate like elements. \\n   '"
      ]
     },
     "execution_count": 28,
     "metadata": {},
     "output_type": "execute_result"
    }
   ],
   "source": [
    "df['descr'][0]"
   ]
  },
  {
   "cell_type": "code",
   "execution_count": 29,
   "metadata": {
    "ExecuteTime": {
     "end_time": "2018-11-27T20:31:37.820123Z",
     "start_time": "2018-11-27T20:31:37.799020Z"
    }
   },
   "outputs": [
    {
     "name": "stdout",
     "output_type": "stream",
     "text": [
      "<class 'pandas.core.frame.DataFrame'>\n",
      "RangeIndex: 5836 entries, 0 to 5835\n",
      "Data columns (total 3 columns):\n",
      "descr    5836 non-null object\n",
      "clm      5836 non-null object\n",
      "code     5836 non-null int64\n",
      "dtypes: int64(1), object(2)\n",
      "memory usage: 136.9+ KB\n"
     ]
    }
   ],
   "source": [
    "df.info()"
   ]
  },
  {
   "cell_type": "code",
   "execution_count": 30,
   "metadata": {
    "ExecuteTime": {
     "end_time": "2018-11-27T20:32:34.268862Z",
     "start_time": "2018-11-27T20:32:34.253011Z"
    }
   },
   "outputs": [
    {
     "name": "stdout",
     "output_type": "stream",
     "text": [
      "<class 'pandas.core.frame.DataFrame'>\n",
      "RangeIndex: 5836 entries, 0 to 5835\n",
      "Data columns (total 3 columns):\n",
      "descr    5836 non-null object\n",
      "clm      5836 non-null object\n",
      "code     5836 non-null int64\n",
      "dtypes: int64(1), object(2)\n",
      "memory usage: 269.7 MB\n"
     ]
    }
   ],
   "source": [
    "df.info(memory_usage='deep')"
   ]
  },
  {
   "cell_type": "code",
   "execution_count": 6,
   "metadata": {
    "ExecuteTime": {
     "end_time": "2018-11-27T21:04:38.451309Z",
     "start_time": "2018-11-27T21:04:36.967601Z"
    }
   },
   "outputs": [],
   "source": [
    "def remove_string(dataframe,column_list,string_in_quotes):\n",
    "    '''\n",
    "    Input:\n",
    "            dataframe: name of pandas dataframe\n",
    "            column_list: list of column name strings (ex. ['col_1','col_2'])\n",
    "            string_in_quotes: string to remove in quotes (ex. ',')\n",
    "    \n",
    "    Output:\n",
    "            none\n",
    "            modifies pandas dataframe to remove string.\n",
    "                \n",
    "    Example:\n",
    "            remove_string(df, ['col_1','col_2'], ',')\n",
    "    \n",
    "    Warning:\n",
    "            If memory issues occur, limit to one column at a time.\n",
    "        \n",
    "    '''\n",
    "    for i in column_list:\n",
    "        dataframe[i] = dataframe[i].str.replace(string_in_quotes,\"\").astype(str)\n",
    "\n",
    "# [ ] clean and automate this\n",
    "remove_string(df, ['descr'],',')\n",
    "remove_string(df, ['clm'],',')\n",
    "remove_string(df, ['descr'],'\\n')\n",
    "remove_string(df, ['clm'],'\\n')\n"
   ]
  },
  {
   "cell_type": "code",
   "execution_count": 8,
   "metadata": {
    "ExecuteTime": {
     "end_time": "2018-11-27T21:04:57.270618Z",
     "start_time": "2018-11-27T21:04:57.231358Z"
    }
   },
   "outputs": [
    {
     "name": "stdout",
     "output_type": "stream",
     "text": [
      "<class 'pandas.core.frame.DataFrame'>\n",
      "RangeIndex: 5836 entries, 0 to 5835\n",
      "Data columns (total 3 columns):\n",
      "descr    5836 non-null object\n",
      "clm      5836 non-null object\n",
      "code     5836 non-null category\n",
      "dtypes: category(1), object(2)\n",
      "memory usage: 97.1+ KB\n",
      "<class 'pandas.core.frame.DataFrame'>\n",
      "RangeIndex: 5836 entries, 0 to 5835\n",
      "Data columns (total 3 columns):\n",
      "descr    5836 non-null object\n",
      "clm      5836 non-null object\n",
      "code     5836 non-null category\n",
      "dtypes: category(1), object(2)\n",
      "memory usage: 265.9 MB\n"
     ]
    }
   ],
   "source": [
    "# change label column to category to optimize data\n",
    "df['code'] = df['code'].astype('category')\n",
    "df.info() #show regular info\n",
    "df.info(memory_usage='deep') #show scary info"
   ]
  },
  {
   "cell_type": "code",
   "execution_count": 9,
   "metadata": {
    "ExecuteTime": {
     "end_time": "2018-11-27T21:05:52.671503Z",
     "start_time": "2018-11-27T21:05:44.010792Z"
    }
   },
   "outputs": [],
   "source": [
    "df.to_csv('/Users/rcm/Google Drive/Galvanize Data Science Immersive/Capstone/data/classification/lazy_hypo_small_descr_clm_code.csv')"
   ]
  },
  {
   "cell_type": "code",
   "execution_count": null,
   "metadata": {},
   "outputs": [],
   "source": []
  }
 ],
 "metadata": {
  "kernelspec": {
   "display_name": "Python 3",
   "language": "python",
   "name": "python3"
  },
  "language_info": {
   "codemirror_mode": {
    "name": "ipython",
    "version": 3
   },
   "file_extension": ".py",
   "mimetype": "text/x-python",
   "name": "python",
   "nbconvert_exporter": "python",
   "pygments_lexer": "ipython3",
   "version": "3.6.5"
  },
  "toc": {
   "base_numbering": 1,
   "nav_menu": {},
   "number_sections": true,
   "sideBar": true,
   "skip_h1_title": false,
   "title_cell": "Table of Contents",
   "title_sidebar": "Contents",
   "toc_cell": false,
   "toc_position": {},
   "toc_section_display": true,
   "toc_window_display": false
  },
  "varInspector": {
   "cols": {
    "lenName": 16,
    "lenType": 16,
    "lenVar": "60"
   },
   "kernels_config": {
    "python": {
     "delete_cmd_postfix": "",
     "delete_cmd_prefix": "del ",
     "library": "var_list.py",
     "varRefreshCmd": "print(var_dic_list())"
    },
    "r": {
     "delete_cmd_postfix": ") ",
     "delete_cmd_prefix": "rm(",
     "library": "var_list.r",
     "varRefreshCmd": "cat(var_dic_list()) "
    }
   },
   "types_to_exclude": [
    "module",
    "function",
    "builtin_function_or_method",
    "instance",
    "_Feature"
   ],
   "window_display": false
  }
 },
 "nbformat": 4,
 "nbformat_minor": 2
}
